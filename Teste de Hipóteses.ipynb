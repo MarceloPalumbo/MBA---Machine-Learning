{
 "cells": [
  {
   "cell_type": "markdown",
   "id": "17e570da",
   "metadata": {},
   "source": [
    "### Introdução aos Teses de Hipóteses\n",
    "\n",
    "Um teste de hipóteses é um procedimento que usa estatística amostral para testar uma alegação sobre o valor de um parâmetro populacional. Pesquisadores das mais diversas áreas contam com os testes de hipóteses para a tomada de decisões sobre novos \n",
    "medicamentos ou resultados de eleições, por exemplo."
   ]
  },
  {
   "cell_type": "markdown",
   "id": "3a723abb",
   "metadata": {},
   "source": [
    "#### Teste de hipóteses para uma média quando $\\sigma$ é conhecido (Teste z para uma amostra)\n",
    "\n",
    "O objetivo dos testes de hipóteses para uma média é avaliar afirmações feitas a respeito da média populacional. Os testes de hipóteses para média exigem dados quantitativos, isto é, dados contínuos ou discretos.\n",
    "\n",
    "O teste de hipóteses descrito nesta seção será utilizado para uma média quando odesvio padrão populacional ($\\sigma$) for conhecido.\n",
    "\n",
    "Identificadas as hipóteses estatísticas (H0 e Ha) e definido o nível de significância ($\\alpha$) podemos proceder ao cálculo da estatística de teste utilizando a fórmula a seguir:\n"
   ]
  },
  {
   "cell_type": "markdown",
   "id": "26abb2dd",
   "metadata": {
    "ExecuteTime": {
     "end_time": "2022-07-02T23:36:26.815794Z",
     "start_time": "2022-07-02T23:36:26.798792Z"
    }
   },
   "source": [
    "$$ Z_{teste} = \\dfrac{\\bar{x} - \\mu_0 }{\\dfrac{\\sigma}{\\sqrt{n}}} $$"
   ]
  },
  {
   "cell_type": "markdown",
   "id": "4900a2e0",
   "metadata": {
    "ExecuteTime": {
     "end_time": "2022-06-30T23:57:07.999855Z",
     "start_time": "2022-06-30T23:57:07.984035Z"
    }
   },
   "source": [
    "##### Exemplo \n",
    "\n",
    "(Adaptado de Levine et al.) Uma das principais medidas de qualidade dos serviços oferecidos por qualquer organização corresponde à velocidade através da qual ela responde a uma reclamação feita pelos clientes. Uma grande loja de departamentos, de controle familiar passou por uma grande expansão nos últimos anos. Foi selecionada uma amostra de 50 reclamações com relação à instalação de pisos deste ano, ou seja, correspondem ao tempo de espera (em dias) entre o recebimento da reclamação e a solução do problema relacionado com a reclamação. Nesta amostra o tempo médio de espera foi de 29 dias. Sabe-se que o desvio padrão da população é \n",
    "de 21 dias. O gerente afirma que o tempo médio de espera é de no máximo 20 dias. Com um nível de 5% de significância há evidências que comprovem a alegação do gerente?\n",
    "\n",
    "Como o desvio padrão populacional é conhecido ($\\sigma$ =21) podemos utilizar o teste z para uma média. A partir do enunciado podemos identificar as hipóteses nula e alternativa da seguinte maneira:"
   ]
  },
  {
   "cell_type": "markdown",
   "id": "ada2a9a4",
   "metadata": {},
   "source": [
    "$H_0 : \\mu \\leq 20$ <br>\n",
    "$H_1 : \\mu > 20$"
   ]
  },
  {
   "cell_type": "code",
   "execution_count": null,
   "id": "e9cee305",
   "metadata": {},
   "outputs": [],
   "source": [
    "$=$ \"$\\geq$\" e \"$\\leq$\" \"$\\neq$\""
   ]
  },
  {
   "cell_type": "code",
   "execution_count": 5,
   "id": "71a08f0c",
   "metadata": {
    "ExecuteTime": {
     "end_time": "2022-07-05T22:56:10.644228Z",
     "start_time": "2022-07-05T22:56:08.202404Z"
    }
   },
   "outputs": [],
   "source": [
    "import numpy as np\n",
    "import pandas as pd\n",
    "from scipy.stats import norm\n",
    "from scipy.stats import t\n",
    "from scipy.stats import f as ff"
   ]
  },
  {
   "cell_type": "code",
   "execution_count": 81,
   "id": "8676d257",
   "metadata": {
    "ExecuteTime": {
     "end_time": "2022-07-01T03:15:28.406938Z",
     "start_time": "2022-07-01T03:15:28.390014Z"
    }
   },
   "outputs": [],
   "source": [
    "a = 0.05\n",
    "n = 50\n",
    "media = 29\n",
    "sigma = 21\n",
    "m0 = 20"
   ]
  },
  {
   "cell_type": "code",
   "execution_count": 82,
   "id": "d1157a84",
   "metadata": {
    "ExecuteTime": {
     "end_time": "2022-07-01T03:15:28.702778Z",
     "start_time": "2022-07-01T03:15:28.684801Z"
    }
   },
   "outputs": [
    {
     "data": {
      "text/plain": [
       "1.6448536269514722"
      ]
     },
     "execution_count": 82,
     "metadata": {},
     "output_type": "execute_result"
    }
   ],
   "source": [
    "# Calcular o Z Alpha\n",
    "norm.ppf(0.95)"
   ]
  },
  {
   "cell_type": "code",
   "execution_count": 83,
   "id": "888bea8f",
   "metadata": {
    "ExecuteTime": {
     "end_time": "2022-07-01T03:15:29.124261Z",
     "start_time": "2022-07-01T03:15:29.109183Z"
    }
   },
   "outputs": [
    {
     "data": {
      "text/plain": [
       "3.0304576336566322"
      ]
     },
     "execution_count": 83,
     "metadata": {},
     "output_type": "execute_result"
    }
   ],
   "source": [
    "z = (media - m0) / (sigma / ( np.sqrt(n)))\n",
    "z"
   ]
  },
  {
   "cell_type": "markdown",
   "id": "a1fd3b93",
   "metadata": {},
   "source": [
    "O critério de decisão baseado no valor p é feito da seguinte maneira:\n",
    "- Rejeitar a hipótese nula ($H_0$) se o valor p é no máximo igual ao nível de significância ($\\alpha$).\n",
    "- Não rejeitar a hipótese nula ($H_0$) se o valor p é maior do que o nível de significância ($\\alpha$)."
   ]
  },
  {
   "cell_type": "code",
   "execution_count": 84,
   "id": "7b356a50",
   "metadata": {
    "ExecuteTime": {
     "end_time": "2022-07-01T03:15:39.061275Z",
     "start_time": "2022-07-01T03:15:39.045169Z"
    }
   },
   "outputs": [
    {
     "data": {
      "text/plain": [
       "0.0012209172101383958"
      ]
     },
     "execution_count": 84,
     "metadata": {},
     "output_type": "execute_result"
    }
   ],
   "source": [
    "# Para calcular o valor-P a direita\n",
    "p = norm.sf(z)\n",
    "p"
   ]
  },
  {
   "cell_type": "code",
   "execution_count": 28,
   "id": "c7b6b2be",
   "metadata": {
    "ExecuteTime": {
     "end_time": "2022-07-01T01:40:14.448297Z",
     "start_time": "2022-07-01T01:40:14.442291Z"
    }
   },
   "outputs": [
    {
     "data": {
      "text/plain": [
       "0.9987790827898616"
      ]
     },
     "execution_count": 28,
     "metadata": {},
     "output_type": "execute_result"
    }
   ],
   "source": [
    "# Para calcular o valor-P a esquerda\n",
    "p = norm.cdf(z)\n",
    "p"
   ]
  },
  {
   "cell_type": "code",
   "execution_count": 34,
   "id": "6b4f87a2",
   "metadata": {
    "ExecuteTime": {
     "end_time": "2022-07-01T02:00:35.378997Z",
     "start_time": "2022-07-01T02:00:35.370631Z"
    }
   },
   "outputs": [
    {
     "data": {
      "text/plain": [
       "1.9975581655797232"
      ]
     },
     "execution_count": 34,
     "metadata": {},
     "output_type": "execute_result"
    }
   ],
   "source": [
    "# Para calcular o valor-P Bicaudal\n",
    "p = 2 * norm.cdf(z)\n",
    "p"
   ]
  },
  {
   "cell_type": "markdown",
   "id": "9efe9483",
   "metadata": {},
   "source": [
    "##### Exercício\n",
    "(Adaptado de Stevenson, 2001) Suponha que queiramos avaliar a afirmação de um fabricante, de que seus pneus radiais suportam uma quilometragem de 40000 milhas, no mínimo. Para uma amostra aleatória de 49 pneus observou-se uma média de duração de 38000 milhas. Sabe-se que o desvio padrão populacional da duração dos pneus é de 3500 milhas. Utilize um nível de significância de 0,03. O que você pode concluir? "
   ]
  },
  {
   "cell_type": "markdown",
   "id": "ecbb5e78",
   "metadata": {},
   "source": [
    "$H_0: \\mu \\geq 40000$ <br>\n",
    "$H_1: \\mu < 40000$"
   ]
  },
  {
   "cell_type": "code",
   "execution_count": 44,
   "id": "435d2130",
   "metadata": {
    "ExecuteTime": {
     "end_time": "2022-07-02T23:48:34.748408Z",
     "start_time": "2022-07-02T23:48:34.738399Z"
    }
   },
   "outputs": [],
   "source": [
    "n = 49\n",
    "sigma = 3500\n",
    "a = 0.03\n",
    "m0 = 40000\n",
    "x = 38000"
   ]
  },
  {
   "cell_type": "code",
   "execution_count": 46,
   "id": "9aa3569c",
   "metadata": {
    "ExecuteTime": {
     "end_time": "2022-07-02T23:49:24.760882Z",
     "start_time": "2022-07-02T23:49:24.744715Z"
    }
   },
   "outputs": [
    {
     "data": {
      "text/plain": [
       "1.88"
      ]
     },
     "execution_count": 46,
     "metadata": {},
     "output_type": "execute_result"
    }
   ],
   "source": [
    "t_alpha = round(norm.ppf(1 - a), 2)\n",
    "t_alpha"
   ]
  },
  {
   "cell_type": "code",
   "execution_count": 48,
   "id": "a78f2f92",
   "metadata": {
    "ExecuteTime": {
     "end_time": "2022-07-02T23:52:23.473624Z",
     "start_time": "2022-07-02T23:52:23.465617Z"
    }
   },
   "outputs": [
    {
     "data": {
      "text/plain": [
       "-4.0"
      ]
     },
     "execution_count": 48,
     "metadata": {},
     "output_type": "execute_result"
    }
   ],
   "source": [
    "z = (x -m0) / (sigma / np.sqrt(n))\n",
    "z "
   ]
  },
  {
   "cell_type": "code",
   "execution_count": 62,
   "id": "d758d68d",
   "metadata": {
    "ExecuteTime": {
     "end_time": "2022-07-03T00:07:55.182673Z",
     "start_time": "2022-07-03T00:07:55.178139Z"
    }
   },
   "outputs": [
    {
     "name": "stdout",
     "output_type": "stream",
     "text": [
      "0.00003\n"
     ]
    }
   ],
   "source": [
    "p = norm.cdf(z)\n",
    "print(f'{p:,.5f}')"
   ]
  },
  {
   "cell_type": "code",
   "execution_count": 63,
   "id": "9f02323b",
   "metadata": {
    "ExecuteTime": {
     "end_time": "2022-07-03T00:08:33.488605Z",
     "start_time": "2022-07-03T00:08:33.473597Z"
    }
   },
   "outputs": [
    {
     "name": "stdout",
     "output_type": "stream",
     "text": [
      "Rejeita H0\n"
     ]
    }
   ],
   "source": [
    "# se valor-p for menor que a significância (a) aceita a hipótese O \n",
    "if p > a:\n",
    "    print(\"Aceita H0\")\n",
    "else:\n",
    "    print(\"Rejeita H0\")"
   ]
  },
  {
   "cell_type": "markdown",
   "id": "41517d78",
   "metadata": {},
   "source": [
    "##### Exercício\n",
    "Um representante de um grupo comunitário informa a um potencial construtor de um shopping, que a renda familiar média mensal nesta área é superior a $\\text{R\\$}$6500. Suponha que, para o tipo de área envolvida, a renda familiar possa ser assumida como seguindo \n",
    "a distribuição normal, e que o desvio padrão pode ser aceito como sendo igual a $\\sigma$ = 2000, baseado em um estudo anterior. Para uma amostra aleatória de 55 residências, a renda familiar média encontrada é de R\\$ 6300. Verifique se há evidências que confirmem a hipótese do representante do grupo comunitário, considere um nível de 2% de significância. Utilize a região crítica e o valor p para concluir o teste."
   ]
  },
  {
   "cell_type": "markdown",
   "id": "a6905286",
   "metadata": {},
   "source": [
    "$H_0: \\mu \\leq 6500$ <br>\n",
    "$H_1: \\mu > 6500$"
   ]
  },
  {
   "cell_type": "code",
   "execution_count": 75,
   "id": "530f0005",
   "metadata": {
    "ExecuteTime": {
     "end_time": "2022-07-03T00:35:43.183059Z",
     "start_time": "2022-07-03T00:35:43.171064Z"
    }
   },
   "outputs": [],
   "source": [
    "n = 55\n",
    "sigma = 2000\n",
    "m0 = 6500\n",
    "x = 6300\n",
    "a = 0.02"
   ]
  },
  {
   "cell_type": "code",
   "execution_count": 76,
   "id": "1b1aed9b",
   "metadata": {
    "ExecuteTime": {
     "end_time": "2022-07-03T00:35:43.553446Z",
     "start_time": "2022-07-03T00:35:43.538304Z"
    }
   },
   "outputs": [
    {
     "data": {
      "text/plain": [
       "2.05"
      ]
     },
     "execution_count": 76,
     "metadata": {},
     "output_type": "execute_result"
    }
   ],
   "source": [
    "z_alpha = round(norm.ppf(1 - a), 2)\n",
    "z_alpha"
   ]
  },
  {
   "cell_type": "code",
   "execution_count": 77,
   "id": "a4aec720",
   "metadata": {
    "ExecuteTime": {
     "end_time": "2022-07-03T00:35:43.958907Z",
     "start_time": "2022-07-03T00:35:43.945911Z"
    }
   },
   "outputs": [
    {
     "data": {
      "text/plain": [
       "-0.7416198487095662"
      ]
     },
     "execution_count": 77,
     "metadata": {},
     "output_type": "execute_result"
    }
   ],
   "source": [
    "z = (x - m0) / (sigma / np.sqrt(n))\n",
    "z"
   ]
  },
  {
   "cell_type": "code",
   "execution_count": 78,
   "id": "6c7f23e9",
   "metadata": {
    "ExecuteTime": {
     "end_time": "2022-07-03T00:35:44.707314Z",
     "start_time": "2022-07-03T00:35:44.690075Z"
    }
   },
   "outputs": [
    {
     "data": {
      "text/plain": [
       "0.7708411529334602"
      ]
     },
     "execution_count": 78,
     "metadata": {},
     "output_type": "execute_result"
    }
   ],
   "source": [
    "p = norm.sf(z)\n",
    "p"
   ]
  },
  {
   "cell_type": "code",
   "execution_count": 79,
   "id": "26ae8943",
   "metadata": {
    "ExecuteTime": {
     "end_time": "2022-07-03T00:35:45.314448Z",
     "start_time": "2022-07-03T00:35:45.306519Z"
    }
   },
   "outputs": [
    {
     "name": "stdout",
     "output_type": "stream",
     "text": [
      "Aceita H0\n"
     ]
    }
   ],
   "source": [
    "# se valor-p for menor que a significância (a) aceita a hipótese O \n",
    "if p > a:\n",
    "    print(\"Aceita H0\")\n",
    "else:\n",
    "    print(\"Rejeita H0\")"
   ]
  },
  {
   "cell_type": "markdown",
   "id": "de35803b",
   "metadata": {
    "ExecuteTime": {
     "end_time": "2022-07-01T02:06:14.458287Z",
     "start_time": "2022-07-01T02:06:14.450005Z"
    }
   },
   "source": [
    "#### Teste de hipóteses (z) com intervalos de confiança\n",
    "Já vimos anteriormente o método de estimação intervalar que consiste em encontrar uma estimativa intervalar de um parâmetro populacional com contém os valores\n",
    "prováveis daquele parâmetro. Por conseguinte, devemos rejeitar uma afirmação de que o parâmetro populacional tenha um valor que não está compreendido no intervalo \n",
    "de confiança.\n",
    "\n",
    "É importante lembrar que, como vimos o método de construção de intervalos de confiança bilaterais para um parâmetro, essa correspondência direta entre um \n",
    "intervalo de confiança e um teste de hipótese deve ser feita quando o teste é bilateral."
   ]
  },
  {
   "cell_type": "markdown",
   "id": "4a9e49d6",
   "metadata": {},
   "source": [
    "##### Exercício\n",
    "1. Um estudante de direito quer conferir a alegação de sua professora de que fraudadores condenados passam, em média 12,3 meses na cadeia. Uma amostra aleatória de 35 casos do arquivo judiciário indicou uma média de 11,5 meses. Suponha que o desvio padrão seja $\\sigma$ = 3,8 meses. Adote um nível de 4% de significância. O que o estudante pode concluir a partir dos dados da amostra? Utilize o valor p e o intervalo de confiança."
   ]
  },
  {
   "cell_type": "markdown",
   "id": "811b8057",
   "metadata": {
    "ExecuteTime": {
     "end_time": "2022-07-01T02:12:05.556572Z",
     "start_time": "2022-07-01T02:12:05.545572Z"
    }
   },
   "source": [
    "$H_0 : \\mu = 20$ <br>\n",
    "$H_1 : \\mu \\neq 20$"
   ]
  },
  {
   "cell_type": "code",
   "execution_count": 199,
   "id": "bf5cfe60",
   "metadata": {
    "ExecuteTime": {
     "end_time": "2022-07-03T02:07:49.437928Z",
     "start_time": "2022-07-03T02:07:49.423895Z"
    }
   },
   "outputs": [],
   "source": [
    "n = 35\n",
    "x = 11.5\n",
    "m0 = 12.3\n",
    "sigma = 3.8\n",
    "a = 0.04"
   ]
  },
  {
   "cell_type": "code",
   "execution_count": 200,
   "id": "07042157",
   "metadata": {
    "ExecuteTime": {
     "end_time": "2022-07-03T02:07:50.307242Z",
     "start_time": "2022-07-03T02:07:50.293325Z"
    }
   },
   "outputs": [
    {
     "data": {
      "text/plain": [
       "1.7506860712521692"
      ]
     },
     "execution_count": 200,
     "metadata": {},
     "output_type": "execute_result"
    }
   ],
   "source": [
    "z_alpha = norm.ppf(1 - a)\n",
    "z_alpha"
   ]
  },
  {
   "cell_type": "code",
   "execution_count": 201,
   "id": "ba8f219b",
   "metadata": {
    "ExecuteTime": {
     "end_time": "2022-07-03T02:07:51.514238Z",
     "start_time": "2022-07-03T02:07:51.509103Z"
    }
   },
   "outputs": [
    {
     "data": {
      "text/plain": [
       "-1.245490480652552"
      ]
     },
     "execution_count": 201,
     "metadata": {},
     "output_type": "execute_result"
    }
   ],
   "source": [
    "z = (x - m0) / (sigma / ( np.sqrt(n)))\n",
    "z"
   ]
  },
  {
   "cell_type": "code",
   "execution_count": 202,
   "id": "487a79b1",
   "metadata": {
    "ExecuteTime": {
     "end_time": "2022-07-03T02:07:57.970706Z",
     "start_time": "2022-07-03T02:07:57.955199Z"
    }
   },
   "outputs": [
    {
     "data": {
      "text/plain": [
       "0.21295151251770572"
      ]
     },
     "execution_count": 202,
     "metadata": {},
     "output_type": "execute_result"
    }
   ],
   "source": [
    "p = 2 * norm.cdf(z)\n",
    "p"
   ]
  },
  {
   "cell_type": "code",
   "execution_count": 203,
   "id": "30f5e2bc",
   "metadata": {
    "ExecuteTime": {
     "end_time": "2022-07-03T02:08:24.846939Z",
     "start_time": "2022-07-03T02:08:24.838934Z"
    }
   },
   "outputs": [
    {
     "data": {
      "text/plain": [
       "0.21295151251770572"
      ]
     },
     "execution_count": 203,
     "metadata": {},
     "output_type": "execute_result"
    }
   ],
   "source": [
    "p = 2 * norm.sf(np.abs(z))\n",
    "p"
   ]
  },
  {
   "cell_type": "code",
   "execution_count": 48,
   "id": "a38499de",
   "metadata": {
    "ExecuteTime": {
     "end_time": "2022-07-01T02:38:36.633088Z",
     "start_time": "2022-07-01T02:38:36.629087Z"
    }
   },
   "outputs": [
    {
     "name": "stdout",
     "output_type": "stream",
     "text": [
      "Conclui-se com 4.0% de significância que o tempo médio que fraudadores condenados passam na cadeia é de 12.3 meses. Dessa forma, há evidências que confirmam a alegação da professora.\n"
     ]
    }
   ],
   "source": [
    "# Conclusão\n",
    "print(f'Conclui-se com {a * 100}% de significância que o tempo médio que fraudadores condenados passam na cadeia é de ' \\\n",
    "      f'{media} meses. Dessa forma, há evidências que confirmam a alegação da professora.')"
   ]
  },
  {
   "cell_type": "markdown",
   "id": "6757b59e",
   "metadata": {},
   "source": [
    "#### Teste de hipóteses para uma média quando $\\sigma$ é desconhecido(Teste t-Student para uma amostra)\n",
    "\n",
    "O teste t-Student, assim como o teste z (visto anteriormente), é um teste de hipóteses para a média. Ele será utilizado quando $\\sigma$ é desconhecido e a população original tem distribuição essencialmente normal.\n",
    "\n",
    "Quando o desvio padrão da população não é conhecido (que é o caso no teste t-Student), usa-se o desvio padrão da amostra como estimativa, substituindo $\\sigma$ por $s$ nas fórmulas. Isto não acarreta maiores dificuldades, pois o desvio padrão amostral dá \n",
    "uma aproximação bastante razoável do verdadeiro valor, na maioria dos casos. Além \n",
    "disso, pelo Teorema do Limite Central, sabemos que, quando o tamanho da amostra é \n",
    "superior ou igual a 30, a distribuição das médias é aproximadamente normal. Todavia, \n",
    "para amostras de menos de 30 observações, a aproximação normal não é adequada. \n",
    "Devemos então usar a distribuição t-Student, que é a distribuição correta quando se \n",
    "usa s. \n",
    "\n",
    "Após a identificação do teste a ser utilizado, procedemos com a definição das \n",
    "hipóteses estatísticas ($H_0$ e $H_a$) e do nível de significância ($\\alpha$). A partir daí encontramos \n",
    "a estatística de teste:\n"
   ]
  },
  {
   "cell_type": "markdown",
   "id": "69b134af",
   "metadata": {
    "ExecuteTime": {
     "end_time": "2022-07-03T00:33:25.674145Z",
     "start_time": "2022-07-03T00:33:25.665145Z"
    }
   },
   "source": [
    "$$ T_{teste} = \\dfrac{\\bar{x} - \\mu_0 }{\\dfrac{S}{\\sqrt{n}}} $$"
   ]
  },
  {
   "cell_type": "markdown",
   "id": "146ed31f",
   "metadata": {},
   "source": [
    "##### Observe o exemplo a seguir:\n",
    "(Adaptado de Morettin & Bussab, 2007) A associação dos proprietários de indústrias metalúrgicas está muito preocupada com o tempo perdido com acidentes de trabalho, cuja média, nos últimos tempos tem sido da ordem de 60 horas/homem por ano. Tentou-se um programa de prevenção de acidentes, após o qual foi tomada uma amostra de nove indústrias e medido o número de \n",
    "horas/homens perdidas por acidente obtendo-se uma média de 50 horas e um desvio padrão de 20 horas. Você diria, considerando-se um nível de significância de 5%, que houve alguma alteração no tempo perdido com acidentes de trabalho?\n",
    "\n",
    "Suponha que a população segue aproximadamente a distribuição normal.\n",
    "\n",
    "Neste exemplo não há qualquer informação sobre o desvio padrão populacional e, além disso, supõe-se que a população tem distribuição aproximadamente normal. Portanto, temos que prosseguir com o teste utilizando a distribuição t-Student:"
   ]
  },
  {
   "cell_type": "markdown",
   "id": "2f9aa987",
   "metadata": {
    "ExecuteTime": {
     "end_time": "2022-07-02T23:14:41.637398Z",
     "start_time": "2022-07-02T23:14:41.619561Z"
    }
   },
   "source": [
    "$H_0 : \\mu = 60$ <br>\n",
    "$H_1 : \\mu \\neq 60$"
   ]
  },
  {
   "cell_type": "code",
   "execution_count": 94,
   "id": "f700bce3",
   "metadata": {
    "ExecuteTime": {
     "end_time": "2022-07-03T00:54:01.453722Z",
     "start_time": "2022-07-03T00:54:01.444715Z"
    }
   },
   "outputs": [],
   "source": [
    "from scipy.stats import t"
   ]
  },
  {
   "cell_type": "code",
   "execution_count": 34,
   "id": "c82d580a",
   "metadata": {
    "ExecuteTime": {
     "end_time": "2022-07-02T23:26:36.750611Z",
     "start_time": "2022-07-02T23:26:36.745251Z"
    }
   },
   "outputs": [],
   "source": [
    "media = 60\n",
    "m0 = 50\n",
    "s = 20\n",
    "n = 9\n",
    "a = 0.05\n",
    "liberdade = n - 1\n",
    "confianca = 1 - a"
   ]
  },
  {
   "cell_type": "code",
   "execution_count": 35,
   "id": "92d87d99",
   "metadata": {
    "ExecuteTime": {
     "end_time": "2022-07-02T23:26:37.049262Z",
     "start_time": "2022-07-02T23:26:37.039261Z"
    }
   },
   "outputs": [
    {
     "data": {
      "text/plain": [
       "2.3060041350333704"
      ]
     },
     "execution_count": 35,
     "metadata": {},
     "output_type": "execute_result"
    }
   ],
   "source": [
    "t_alpha = t.interval(confianca, liberdade, 0, 1)[1]\n",
    "t_alpha"
   ]
  },
  {
   "cell_type": "code",
   "execution_count": 36,
   "id": "bdaf1f77",
   "metadata": {
    "ExecuteTime": {
     "end_time": "2022-07-02T23:26:37.389851Z",
     "start_time": "2022-07-02T23:26:37.383867Z"
    }
   },
   "outputs": [
    {
     "data": {
      "text/plain": [
       "-1.5"
      ]
     },
     "execution_count": 36,
     "metadata": {},
     "output_type": "execute_result"
    }
   ],
   "source": [
    "tt = (m0 - media) / (s / (np.sqrt(n)))\n",
    "tt"
   ]
  },
  {
   "cell_type": "code",
   "execution_count": 37,
   "id": "485af8d9",
   "metadata": {
    "ExecuteTime": {
     "end_time": "2022-07-02T23:26:38.010484Z",
     "start_time": "2022-07-02T23:26:38.000483Z"
    }
   },
   "outputs": [
    {
     "data": {
      "text/plain": [
       "0.1720032919519113"
      ]
     },
     "execution_count": 37,
     "metadata": {},
     "output_type": "execute_result"
    }
   ],
   "source": [
    "# rejeita H0 se p =< a\n",
    "p = 2 * t.cdf(tt, df = liberdade)\n",
    "p"
   ]
  },
  {
   "cell_type": "code",
   "execution_count": 96,
   "id": "3175a7ca",
   "metadata": {
    "ExecuteTime": {
     "end_time": "2022-07-03T00:56:28.282035Z",
     "start_time": "2022-07-03T00:56:28.266038Z"
    }
   },
   "outputs": [
    {
     "name": "stdout",
     "output_type": "stream",
     "text": [
      "Rejeita H0\n"
     ]
    }
   ],
   "source": [
    "# se valor-p for menor que a significância (a) aceita a hipótese O \n",
    "if p > a:\n",
    "    print(\"Aceita H0\")\n",
    "else:\n",
    "    print(\"Rejeita H0\")"
   ]
  },
  {
   "cell_type": "markdown",
   "id": "829ecbea",
   "metadata": {
    "ExecuteTime": {
     "end_time": "2022-07-02T23:28:42.409796Z",
     "start_time": "2022-07-02T23:28:42.399796Z"
    }
   },
   "source": [
    "##### Exercício\n",
    "(Adaptado de Morettin & Bussab) Um escritório de investimentos acredita que o rendimento médio das diversas ações que movimenta é de 20%. Uma nova estratégia foi definida com o objetivo de aumentar o rendimento médio das diversas ações que movimenta. Para verificar esta hipótese, tomaram-se 18 empresas ao acaso obtendo-se um rendimento médio de 24,56% e um desvio padrão de 5%. \n",
    "Suponha que a população tenha distribuição aproximadamente normal. Faça o teste estatístico para comprovar que a nova estratégia é realmente eficiente para aumentar o rendimento médio das diversas ações. Use um nível de significância de 1%."
   ]
  },
  {
   "cell_type": "markdown",
   "id": "96a92bef",
   "metadata": {},
   "source": [
    "$H_0 : \\mu \\leq 24,56$ <br>\n",
    "$H_1 : \\mu > 24,56$"
   ]
  },
  {
   "cell_type": "code",
   "execution_count": 191,
   "id": "a11e6905",
   "metadata": {
    "ExecuteTime": {
     "end_time": "2022-07-03T02:04:12.450660Z",
     "start_time": "2022-07-03T02:04:12.445660Z"
    }
   },
   "outputs": [],
   "source": [
    "n = 18\n",
    "m0 = 20\n",
    "x = 24.56\n",
    "s = 5\n",
    "a = 0.01\n",
    "liberdade = n - 1"
   ]
  },
  {
   "cell_type": "code",
   "execution_count": 83,
   "id": "838ee14b",
   "metadata": {
    "ExecuteTime": {
     "end_time": "2022-07-03T00:49:14.490014Z",
     "start_time": "2022-07-03T00:49:14.476014Z"
    }
   },
   "outputs": [
    {
     "data": {
      "text/plain": [
       "2.5669339837199097"
      ]
     },
     "execution_count": 83,
     "metadata": {},
     "output_type": "execute_result"
    }
   ],
   "source": [
    "t_alpha = t.ppf(1 - a, n - 1)\n",
    "t_alpha"
   ]
  },
  {
   "cell_type": "code",
   "execution_count": 92,
   "id": "91f6eb88",
   "metadata": {
    "ExecuteTime": {
     "end_time": "2022-07-03T00:53:47.321230Z",
     "start_time": "2022-07-03T00:53:47.314231Z"
    }
   },
   "outputs": [
    {
     "data": {
      "text/plain": [
       "3.869288306652787"
      ]
     },
     "execution_count": 92,
     "metadata": {},
     "output_type": "execute_result"
    }
   ],
   "source": [
    "tt = (x - m0) / (s / np.sqrt(n))\n",
    "tt"
   ]
  },
  {
   "cell_type": "code",
   "execution_count": 95,
   "id": "9485d4b6",
   "metadata": {
    "ExecuteTime": {
     "end_time": "2022-07-03T00:54:04.390191Z",
     "start_time": "2022-07-03T00:54:04.371185Z"
    }
   },
   "outputs": [
    {
     "data": {
      "text/plain": [
       "0.0006155271825812143"
      ]
     },
     "execution_count": 95,
     "metadata": {},
     "output_type": "execute_result"
    }
   ],
   "source": [
    "p = t.sf(tt, df = liberdade)\n",
    "p"
   ]
  },
  {
   "cell_type": "code",
   "execution_count": 98,
   "id": "8caccb65",
   "metadata": {
    "ExecuteTime": {
     "end_time": "2022-07-03T00:59:21.447892Z",
     "start_time": "2022-07-03T00:59:21.434886Z"
    }
   },
   "outputs": [
    {
     "name": "stdout",
     "output_type": "stream",
     "text": [
      "Rejeita H0\n"
     ]
    }
   ],
   "source": [
    "# se valor-p for menor que a significância (a) aceita a hipótese O \n",
    "if p > a:\n",
    "    print(\"Aceita H0\")\n",
    "else:\n",
    "    print(\"Rejeita H0\")"
   ]
  },
  {
   "cell_type": "markdown",
   "id": "5fbe1ace",
   "metadata": {},
   "source": [
    "##### Exercício\n",
    "Uma amostra aleatória de oito pedidos dos arquivos de uma companhia mostra que os pedidos de certa peça de uma máquina forma despachados em: 12 10 17 \n",
    "14 13 18 11 9 dias. Ao nível de 5% de significância , podemos concluir que, em média, tais pedidos são despachados em menos de 10 dias?"
   ]
  },
  {
   "cell_type": "markdown",
   "id": "7e9b6500",
   "metadata": {},
   "source": [
    "$H_0: \\mu \\geq 10$ <br>\n",
    "$H_1: \\mu < 10$"
   ]
  },
  {
   "cell_type": "code",
   "execution_count": 193,
   "id": "32937b91",
   "metadata": {
    "ExecuteTime": {
     "end_time": "2022-07-03T02:05:11.239671Z",
     "start_time": "2022-07-03T02:05:11.221670Z"
    }
   },
   "outputs": [
    {
     "name": "stdout",
     "output_type": "stream",
     "text": [
      "média da amostra 13.0, desvio padrão da amostra 3.0\n"
     ]
    }
   ],
   "source": [
    "from scipy.stats import t\n",
    "amostra = [12, 10, 17, 14, 13, 18, 11, 9]\n",
    "n = 8\n",
    "a = 0.05\n",
    "m0 = 10\n",
    "x = np.mean(amostra)\n",
    "s = np.std(amostra)\n",
    "print(f'média da amostra {x}, desvio padrão da amostra {s}')"
   ]
  },
  {
   "cell_type": "code",
   "execution_count": 194,
   "id": "479b0f28",
   "metadata": {
    "ExecuteTime": {
     "end_time": "2022-07-03T02:05:11.587777Z",
     "start_time": "2022-07-03T02:05:11.580777Z"
    }
   },
   "outputs": [
    {
     "data": {
      "text/plain": [
       "1.894578605061305"
      ]
     },
     "execution_count": 194,
     "metadata": {},
     "output_type": "execute_result"
    }
   ],
   "source": [
    "t_alpha = t.ppf(1 - a, n - 1)\n",
    "t_alpha"
   ]
  },
  {
   "cell_type": "code",
   "execution_count": 195,
   "id": "d1ec4550",
   "metadata": {
    "ExecuteTime": {
     "end_time": "2022-07-03T02:05:12.012477Z",
     "start_time": "2022-07-03T02:05:12.005481Z"
    }
   },
   "outputs": [
    {
     "data": {
      "text/plain": [
       "2.8284271247461903"
      ]
     },
     "execution_count": 195,
     "metadata": {},
     "output_type": "execute_result"
    }
   ],
   "source": [
    "tt = (x - m0) / (s / np.sqrt(n))\n",
    "tt"
   ]
  },
  {
   "cell_type": "code",
   "execution_count": 196,
   "id": "dd2d5537",
   "metadata": {
    "ExecuteTime": {
     "end_time": "2022-07-03T02:05:12.502252Z",
     "start_time": "2022-07-03T02:05:12.484245Z"
    }
   },
   "outputs": [
    {
     "data": {
      "text/plain": [
       "0.9872682191583804"
      ]
     },
     "execution_count": 196,
     "metadata": {},
     "output_type": "execute_result"
    }
   ],
   "source": [
    "p = t.cdf(tt, df = n - 1)\n",
    "p"
   ]
  },
  {
   "cell_type": "code",
   "execution_count": 197,
   "id": "1c4340bf",
   "metadata": {
    "ExecuteTime": {
     "end_time": "2022-07-03T02:05:13.476479Z",
     "start_time": "2022-07-03T02:05:13.460768Z"
    }
   },
   "outputs": [
    {
     "name": "stdout",
     "output_type": "stream",
     "text": [
      "Aceita H0.\n"
     ]
    }
   ],
   "source": [
    "if p > a:\n",
    "    print(\"Aceita H0.\")\n",
    "else:\n",
    "    print('Rejeita H0.')"
   ]
  },
  {
   "cell_type": "code",
   "execution_count": 198,
   "id": "dd4d9516",
   "metadata": {
    "ExecuteTime": {
     "end_time": "2022-07-03T02:05:14.661198Z",
     "start_time": "2022-07-03T02:05:14.646188Z"
    }
   },
   "outputs": [
    {
     "data": {
      "text/plain": [
       "(2.6457513110645907, 0.9834272498681131, 7.0)"
      ]
     },
     "execution_count": 198,
     "metadata": {},
     "output_type": "execute_result"
    }
   ],
   "source": [
    "# Outro metodo\n",
    "from statsmodels.stats.weightstats import DescrStatsW\n",
    "test = DescrStatsW(amostra)\n",
    "ter = test.ttest_mean(value = m0, alternative = 'smaller')\n",
    "ter"
   ]
  },
  {
   "cell_type": "markdown",
   "id": "fb7243fd",
   "metadata": {
    "ExecuteTime": {
     "end_time": "2022-07-01T03:02:33.965663Z",
     "start_time": "2022-07-01T03:02:33.940603Z"
    }
   },
   "source": [
    "### Teste de hipóteses para uma proporção\n",
    "Os testes de hipóteses para proporções são adequados quando os dados sob análise consistem de contagens ou frequências de itens. A finalidade de tais testes é avaliar afirmações sobre a proporção (ou percentagem) de uma população.\n",
    "\n",
    "As suposições associadas ao teste de hipóteses para uma proporção são descritas a seguir:\n",
    "\n",
    " Devem ser verificadas as condições para um experimento binomial. Isto é, temos um número fixo de provas independentes com probabilidade constante, e cada prova comporta dois resultados, que são designados como “sucesso” e “fracasso”.\n",
    "\n",
    " As condições $n \\cdot P_0 \\geq 5$ e $n \\cdot (1 - P_0) \\geq 5$ são ambas verificadas, de modo que a distribuição binomial das proporções amostrais pode ser aproximada por uma distribuição normal com $\\mu = n \\cdot P_0$ e $\\sigma = \\sqrt{n \\cdot P_0 \\cdot (1 - P_0)}$ .\n",
    "                                       \n",
    "Se as duas suposições acima forem satisfeitas podemos realizar o teste de hipóteses para uma proporção utilizando a tabela da distribuição normal padrão.\n",
    "\n",
    "A notação que utilizaremos é a seguinte:\n",
    "\n",
    "$n$ = tamanho da amostra;\n",
    "\n",
    "$\\hat p = \\left( \\dfrac{x}{n} \\right)$ (proporção amostral)\n",
    "\n",
    "$P_0$ = proporção populacional (usada nas hipóteses)\n",
    "\n",
    "A estatística de teste que será utilizda é obtida por:\n",
    "\n",
    "$$ Z_{teste} = \\dfrac{\\hat p - P_0}{\\sqrt{\\dfrac{P_0 \\left(1 - P_0 \\right)}{n}}} $$"
   ]
  },
  {
   "cell_type": "markdown",
   "id": "68635440",
   "metadata": {},
   "source": [
    "#### Exemplo:\n",
    "“Em um estudo da eficácia do air-bag em automóveis, constatou-se que, em 821 colisões de carros de tamanho médio equipados com air-bag, 46 colisões resultaram em hospitalização do motorista. Ao nível de significância de 0,01, teste a afirmação de \n",
    "que a taxa de hospitalização dos motoristas, nos casos de carros equipados com air-bag, é inferior à taxa de 7,8% para colisões de carros de tamanho médio equipados com cintos automáticos de segurança.”"
   ]
  },
  {
   "cell_type": "markdown",
   "id": "fb5b2a79",
   "metadata": {},
   "source": [
    "$H_0: p \\geq 0,078$ <br>\n",
    "$H_1: p < 0,078$"
   ]
  },
  {
   "cell_type": "code",
   "execution_count": 17,
   "id": "87e7f337",
   "metadata": {
    "ExecuteTime": {
     "end_time": "2022-07-02T23:07:25.716371Z",
     "start_time": "2022-07-02T23:07:25.703923Z"
    }
   },
   "outputs": [],
   "source": [
    "a = 0.01\n",
    "n = 821\n",
    "x = 46\n",
    "p0 = 0.078\n",
    "pc = x / n"
   ]
  },
  {
   "cell_type": "code",
   "execution_count": 28,
   "id": "05f225e1",
   "metadata": {
    "ExecuteTime": {
     "end_time": "2022-07-02T23:18:49.367221Z",
     "start_time": "2022-07-02T23:18:49.360085Z"
    }
   },
   "outputs": [
    {
     "data": {
      "text/plain": [
       "2.33"
      ]
     },
     "execution_count": 28,
     "metadata": {},
     "output_type": "execute_result"
    }
   ],
   "source": [
    "z_alpha = round(norm.ppf(1 - a),2)\n",
    "z_alpha"
   ]
  },
  {
   "cell_type": "code",
   "execution_count": 29,
   "id": "48244733",
   "metadata": {
    "ExecuteTime": {
     "end_time": "2022-07-02T23:19:01.498276Z",
     "start_time": "2022-07-02T23:19:01.479271Z"
    }
   },
   "outputs": [
    {
     "data": {
      "text/plain": [
       "-2.35"
      ]
     },
     "execution_count": 29,
     "metadata": {},
     "output_type": "execute_result"
    }
   ],
   "source": [
    "z = round((pc - p0)/(np.sqrt(p0 * (1 - p0)/ n)),2)\n",
    "z"
   ]
  },
  {
   "cell_type": "code",
   "execution_count": 30,
   "id": "6ab36b81",
   "metadata": {
    "ExecuteTime": {
     "end_time": "2022-07-02T23:19:30.606325Z",
     "start_time": "2022-07-02T23:19:30.599326Z"
    }
   },
   "outputs": [
    {
     "data": {
      "text/plain": [
       "0.009386705534838566"
      ]
     },
     "execution_count": 30,
     "metadata": {},
     "output_type": "execute_result"
    }
   ],
   "source": [
    "p = norm.cdf(z)\n",
    "p"
   ]
  },
  {
   "cell_type": "code",
   "execution_count": 31,
   "id": "dbd81037",
   "metadata": {
    "ExecuteTime": {
     "end_time": "2022-07-02T23:21:51.521141Z",
     "start_time": "2022-07-02T23:21:51.504516Z"
    }
   },
   "outputs": [
    {
     "name": "stdout",
     "output_type": "stream",
     "text": [
      "Aceita H0\n"
     ]
    }
   ],
   "source": [
    "# se valor-p for menor que a significância (a)\n",
    "if p < a:\n",
    "    print(\"Aceita H0\")\n",
    "else:\n",
    "    print(\"Rejeita H0\")"
   ]
  },
  {
   "cell_type": "markdown",
   "id": "2ec257c7",
   "metadata": {},
   "source": [
    "##### Exercício\n",
    "Um sistema de reservas da companhia Y acusa uma taxa de 7% de não-comparecimento. Adotou-se então um novo processo, pelo qual as reservas são confirmadas no dia anterior ao do vôo, fazendo-se um estudo de 5218 reservas pelo novo sistema, selecionadas aleatoriamente. Se se registraram 333 não-comparecimentos, teste a afirmação de que a taxa de não-comparecimento é menor no novo sistema. O novo sistema se afigura eficiente na redução do não-comparecimento? Utilize um nível de 2% de significância.\n"
   ]
  },
  {
   "cell_type": "markdown",
   "id": "2c1eddec",
   "metadata": {},
   "source": [
    "$H_0: \\mu \\geq 7\\text{%}$ <br>\n",
    "$H_1: \\mu < 7\\text{%}$"
   ]
  },
  {
   "cell_type": "code",
   "execution_count": 223,
   "id": "13d8e9c4",
   "metadata": {
    "ExecuteTime": {
     "end_time": "2022-07-03T02:27:18.030521Z",
     "start_time": "2022-07-03T02:27:18.014782Z"
    }
   },
   "outputs": [
    {
     "data": {
      "text/plain": [
       "0.0638"
      ]
     },
     "execution_count": 223,
     "metadata": {},
     "output_type": "execute_result"
    }
   ],
   "source": [
    "n = 5218\n",
    "a = 0.02\n",
    "p0 = 0.07\n",
    "x = 333\n",
    "pc = round(x / n, 4)\n",
    "pc"
   ]
  },
  {
   "cell_type": "code",
   "execution_count": 224,
   "id": "54c728c7",
   "metadata": {
    "ExecuteTime": {
     "end_time": "2022-07-03T02:27:18.824491Z",
     "start_time": "2022-07-03T02:27:18.813798Z"
    }
   },
   "outputs": [
    {
     "data": {
      "text/plain": [
       "2.05"
      ]
     },
     "execution_count": 224,
     "metadata": {},
     "output_type": "execute_result"
    }
   ],
   "source": [
    "z_alpha = round(norm.ppf(1 - a), 2)\n",
    "z_alpha"
   ]
  },
  {
   "cell_type": "code",
   "execution_count": 225,
   "id": "fc71b519",
   "metadata": {
    "ExecuteTime": {
     "end_time": "2022-07-03T02:27:19.293456Z",
     "start_time": "2022-07-03T02:27:19.279551Z"
    }
   },
   "outputs": [
    {
     "data": {
      "text/plain": [
       "-1.7553"
      ]
     },
     "execution_count": 225,
     "metadata": {},
     "output_type": "execute_result"
    }
   ],
   "source": [
    "z = round((pc - p0) / (np.sqrt(p0 * (1 - p0) / n)), 4)\n",
    "z"
   ]
  },
  {
   "cell_type": "code",
   "execution_count": 227,
   "id": "8b1bfbc2",
   "metadata": {
    "ExecuteTime": {
     "end_time": "2022-07-03T02:27:35.476532Z",
     "start_time": "2022-07-03T02:27:35.469531Z"
    }
   },
   "outputs": [
    {
     "data": {
      "text/plain": [
       "0.0396040032476464"
      ]
     },
     "execution_count": 227,
     "metadata": {},
     "output_type": "execute_result"
    }
   ],
   "source": [
    "p = norm.cdf(z)\n",
    "p"
   ]
  },
  {
   "cell_type": "code",
   "execution_count": 228,
   "id": "ec6c44a9",
   "metadata": {
    "ExecuteTime": {
     "end_time": "2022-07-03T02:34:03.884919Z",
     "start_time": "2022-07-03T02:34:03.878916Z"
    }
   },
   "outputs": [
    {
     "name": "stdout",
     "output_type": "stream",
     "text": [
      "Aceita H0.\n"
     ]
    }
   ],
   "source": [
    "if p > a:\n",
    "    print('Aceita H0.')\n",
    "else:\n",
    "    print('Rejeita H0.')"
   ]
  },
  {
   "cell_type": "markdown",
   "id": "8bb0c196",
   "metadata": {},
   "source": [
    "##### Exercício\n",
    "Em um estudo de 71 fumantes que estavam procurando deixar de fumar utilizando uma terapia especial, 32 não estavam fumando um ano após o tratamento. Ao nível de 0,10 de significância, teste a afirmação de que, dos fumantes que procuram deixar de fumar com aquela terapia, no máximo 25% voltam a fumar um ano após o tratamento. Esses resultados sugerem que a terapia não é eficaz?"
   ]
  },
  {
   "cell_type": "markdown",
   "id": "9116277a",
   "metadata": {},
   "source": [
    "$H_0: \\mu \\leq 25\\text{%}$ <br>\n",
    "$H_1: \\mu > 25\\text{%}$ "
   ]
  },
  {
   "cell_type": "code",
   "execution_count": 245,
   "id": "9b3b1161",
   "metadata": {
    "ExecuteTime": {
     "end_time": "2022-07-03T03:00:01.535807Z",
     "start_time": "2022-07-03T03:00:01.527807Z"
    }
   },
   "outputs": [
    {
     "data": {
      "text/plain": [
       "0.5492957746478874"
      ]
     },
     "execution_count": 245,
     "metadata": {},
     "output_type": "execute_result"
    }
   ],
   "source": [
    "n = 71\n",
    "a = 0.10\n",
    "p0 = 0.25\n",
    "x = n - 32  # A amostra menos o inverso que estamos procurando, neste caso é a população menos os que não voltaram a fumar\n",
    "pc = x / n\n",
    "pc"
   ]
  },
  {
   "cell_type": "code",
   "execution_count": 246,
   "id": "905ed5b8",
   "metadata": {
    "ExecuteTime": {
     "end_time": "2022-07-03T03:00:04.053428Z",
     "start_time": "2022-07-03T03:00:04.049488Z"
    }
   },
   "outputs": [
    {
     "data": {
      "text/plain": [
       "1.2815515655446004"
      ]
     },
     "execution_count": 246,
     "metadata": {},
     "output_type": "execute_result"
    }
   ],
   "source": [
    "t_alpha = norm.ppf(1 - a)\n",
    "t_alpha"
   ]
  },
  {
   "cell_type": "code",
   "execution_count": 247,
   "id": "43ff2a8b",
   "metadata": {
    "ExecuteTime": {
     "end_time": "2022-07-03T03:00:04.627103Z",
     "start_time": "2022-07-03T03:00:04.619156Z"
    }
   },
   "outputs": [
    {
     "data": {
      "text/plain": [
       "5.82410403353402"
      ]
     },
     "execution_count": 247,
     "metadata": {},
     "output_type": "execute_result"
    }
   ],
   "source": [
    "z = (pc - p0) / (np.sqrt( (p0 * (1 - p0)) / n))\n",
    "z"
   ]
  },
  {
   "cell_type": "code",
   "execution_count": 248,
   "id": "575232b4",
   "metadata": {
    "ExecuteTime": {
     "end_time": "2022-07-03T03:00:48.809248Z",
     "start_time": "2022-07-03T03:00:48.800770Z"
    }
   },
   "outputs": [
    {
     "data": {
      "text/plain": [
       "2.8709900844071862e-09"
      ]
     },
     "execution_count": 248,
     "metadata": {},
     "output_type": "execute_result"
    }
   ],
   "source": [
    "p = norm.sf(z)\n",
    "p"
   ]
  },
  {
   "cell_type": "code",
   "execution_count": 249,
   "id": "238cf8b1",
   "metadata": {
    "ExecuteTime": {
     "end_time": "2022-07-03T03:03:40.214632Z",
     "start_time": "2022-07-03T03:03:40.208631Z"
    }
   },
   "outputs": [
    {
     "name": "stdout",
     "output_type": "stream",
     "text": [
      "Rejeita H0.\n"
     ]
    }
   ],
   "source": [
    "if p > a:\n",
    "    print('Aceita H0.')\n",
    "else:\n",
    "    print('Rejeita H0.')"
   ]
  },
  {
   "cell_type": "markdown",
   "id": "6f32b5bf",
   "metadata": {
    "ExecuteTime": {
     "end_time": "2022-07-03T17:22:10.296801Z",
     "start_time": "2022-07-03T17:22:10.271612Z"
    }
   },
   "source": [
    "### Teste t-Student para duas médias <br>(Amostras pareadas)\n",
    "Uma amostra pareada corresponde ao levantamento de dados da mesma amostra em duas situações nas quais tenha interferido algum fator cujo efeito deseja-se avaliar. \n",
    "\n",
    "Exemplos:<br>\n",
    "- Comparar o peso de um grupo de pessoas antes e depois de passarem por uma dieta rigorosa; <br>\n",
    "- Verificar o tempo de resposta de um sistema antes e depois de algumas modificações serem implementadas; <br>\n",
    "- Verificar a pressão arterial de indivíduos antes e depois de ingerirem uma medição. \n",
    "\n",
    "Uma amostra pareada de n observações, antes e depois da intervenção de um fator, pode ser representada como no Quadro 1.\n",
    "\n",
    "|Indivíduo|Antes do fator|Depois do fato|Diferença d|\n",
    "|:-----:|:-----:|:----:|:--------:|\n",
    "|1|$X_1$|$Y_1$|$D_1=X_1-Y_1$|\n",
    "|2|$X_2$|$Y_2$|$D_2=X_2-Y_2$|\n",
    "|n|$X_n$||$Y_n$|$D_n=X_n-Y_n$|"
   ]
  },
  {
   "cell_type": "markdown",
   "id": "b24ab518",
   "metadata": {},
   "source": [
    "Passos para realização do teste de hipóteses para comparação duas médias com amostras pareadas:\n",
    "1. Passo: Estabeleça o nível de significância ($\\alpha$) a ser adotado.\n",
    "2. Passo: Estabelecer as hipóteses:\n",
    "    H0: Não há diferença entre as médias pareadas (antes e depois), ou seja, $\\mu_1 = \\mu_2$\n",
    "    H1: As duas medidas realizadas (antes e depois) são significativamente diferentes em relação à variável testada, ou seja, $\\mu_1 \\neq \\mu_2$. <br>\n",
    "Devemos determinar as hipóteses estatísticas a partir do problema a ser resolvido. Nesse material, trataremos somente da hipótese bilateral.\n",
    "3. Passo: Calcular as diferenças d entre os pares de observações de cada indivíduo.\n",
    "4. Passo: Encontrar o valor $d$, que é a média das diferenças $d_i$:<br>\n",
    "$$\\bar{d}= \\dfrac{\\sum D_i}{n}$$\n",
    "5. Passo: Calcular o desvio padrão ($S_d$) das diferenças di:<br>\n",
    "$$S_d=\\sqrt{\\dfrac{n\\left(\\sum D_i^2 \\right) - \\left( \\sum D_i \\right) ^2}{n \\cdot \\left( n - 1 \\right)}}$$\n",
    "6. Passo: Calcular a estatística de teste $T_p$:<br>\n",
    "$$T_p = \\dfrac{ \\bar{d}}{ \\dfrac{S_d}{\\sqrt{n}}}$$\n",
    "7. Passo: Calcular o valor p:\n",
    "Valor p = $2 \\cdot P \\left( t > | T_p | \\right)$, co $n-1$ graus de liberdade.\n",
    "\n",
    " Conclusão: \n",
    "- Se o valor p < nível de significância ($\\alpha$), então há indícios para rejeitarmos H0.\n",
    "- Se o valor p > nível de significância ($\\alpha$), então há evidências suficientes para aceitarmos H0.\n",
    "8. Passo: Outra opção seria construir o intervalo de confiança:\n",
    "$$ \\bar{d} \\pm \\left(T_{n-1; \\dfrac{a}{2}} \\right) \\cdot \\dfrac{S_d}{\\sqrt{n}}$$\n",
    "\n",
    "Conclusão: \n",
    "- Se os limites do intervalo de confiança não contêm 0 (zero), então há indícios para rejeitarmos H0.\n",
    "- Se os limites do intervalo de confiança contêm 0 (zero), então há evidências suficientes para aceitarmos H0.\n"
   ]
  },
  {
   "cell_type": "markdown",
   "id": "38efabac",
   "metadata": {},
   "source": [
    "#####  Exemplo\n",
    "\n",
    "O Captopril é um remédio destinado a baixar a pressão sistólica. Feito o teste com este remédio em pacientes, mediram-se suas pressões sistólicas (em mmHg) antes e depois de tomarem o remédio, com os resultados constantes da tabela a seguir. Pode-se dizer que haja diferença nas medidas da pressão sistólica antes e depois da ingestão do remédio?\n",
    "\n",
    "Tabela 1 - Pressão sistólica dos pacientes antes e depois de tomarem o Captopril<br>\n",
    "Pressão Sistólica (em mmHg)"
   ]
  },
  {
   "cell_type": "code",
   "execution_count": 265,
   "id": "c4945636",
   "metadata": {
    "ExecuteTime": {
     "end_time": "2022-07-03T18:12:08.261544Z",
     "start_time": "2022-07-03T18:12:08.248533Z"
    }
   },
   "outputs": [
    {
     "data": {
      "text/html": [
       "<div>\n",
       "<style scoped>\n",
       "    .dataframe tbody tr th:only-of-type {\n",
       "        vertical-align: middle;\n",
       "    }\n",
       "\n",
       "    .dataframe tbody tr th {\n",
       "        vertical-align: top;\n",
       "    }\n",
       "\n",
       "    .dataframe thead th {\n",
       "        text-align: right;\n",
       "    }\n",
       "</style>\n",
       "<table border=\"1\" class=\"dataframe\">\n",
       "  <thead>\n",
       "    <tr style=\"text-align: right;\">\n",
       "      <th></th>\n",
       "      <th>Antes</th>\n",
       "      <th>Depois</th>\n",
       "    </tr>\n",
       "  </thead>\n",
       "  <tbody>\n",
       "    <tr>\n",
       "      <th>0</th>\n",
       "      <td>200</td>\n",
       "      <td>191</td>\n",
       "    </tr>\n",
       "    <tr>\n",
       "      <th>1</th>\n",
       "      <td>174</td>\n",
       "      <td>170</td>\n",
       "    </tr>\n",
       "    <tr>\n",
       "      <th>2</th>\n",
       "      <td>198</td>\n",
       "      <td>177</td>\n",
       "    </tr>\n",
       "    <tr>\n",
       "      <th>3</th>\n",
       "      <td>170</td>\n",
       "      <td>167</td>\n",
       "    </tr>\n",
       "    <tr>\n",
       "      <th>4</th>\n",
       "      <td>179</td>\n",
       "      <td>159</td>\n",
       "    </tr>\n",
       "  </tbody>\n",
       "</table>\n",
       "</div>"
      ],
      "text/plain": [
       "   Antes  Depois\n",
       "0    200     191\n",
       "1    174     170\n",
       "2    198     177\n",
       "3    170     167\n",
       "4    179     159"
      ]
     },
     "execution_count": 265,
     "metadata": {},
     "output_type": "execute_result"
    }
   ],
   "source": [
    "dados = [[200, 174, 198, 170, 179], [191, 170, 177, 167, 159]]\n",
    "colunas = ['Antes', 'Depois']\n",
    "df = pd.DataFrame(columns = colunas)\n",
    "df['Antes'] = dados[0]\n",
    "df['Depois'] = dados[1]\n",
    "df"
   ]
  },
  {
   "cell_type": "markdown",
   "id": "b108910d",
   "metadata": {
    "ExecuteTime": {
     "end_time": "2022-07-03T18:12:02.355685Z",
     "start_time": "2022-07-03T18:12:02.350684Z"
    }
   },
   "source": [
    "1. Passo:\n",
    "Nível de significância ($\\alpha$) = 5%, ou seja, 0,05 $\\to$ Como o nível de significância não foi especificado no problema, adotaremos o “padrão”."
   ]
  },
  {
   "cell_type": "markdown",
   "id": "143c935c",
   "metadata": {
    "ExecuteTime": {
     "end_time": "2022-07-03T18:11:40.787449Z",
     "start_time": "2022-07-03T18:11:40.775448Z"
    }
   },
   "source": [
    "2. Passo: <br>\n",
    "$H_0: \\mu_1 = \\mu_2 \\to \\mu_1 - \\mu_2 = 0$ <br>\n",
    "$H_1: \\mu_1 \\neq \\mu_2 \\to \\mu_1 - \\mu_2 \\neq 0$"
   ]
  },
  {
   "cell_type": "markdown",
   "id": "a2217749",
   "metadata": {},
   "source": [
    "3. Passo: Calcular as diferenças $D_i$ e o valor de $D_i^2$"
   ]
  },
  {
   "cell_type": "code",
   "execution_count": 287,
   "id": "5d26e2ef",
   "metadata": {
    "ExecuteTime": {
     "end_time": "2022-07-03T18:54:57.211050Z",
     "start_time": "2022-07-03T18:54:57.201859Z"
    }
   },
   "outputs": [
    {
     "name": "stdout",
     "output_type": "stream",
     "text": [
      "A soma de di é 57\n",
      "A soma de di2 é 947\n"
     ]
    },
    {
     "data": {
      "text/html": [
       "<div>\n",
       "<style scoped>\n",
       "    .dataframe tbody tr th:only-of-type {\n",
       "        vertical-align: middle;\n",
       "    }\n",
       "\n",
       "    .dataframe tbody tr th {\n",
       "        vertical-align: top;\n",
       "    }\n",
       "\n",
       "    .dataframe thead th {\n",
       "        text-align: right;\n",
       "    }\n",
       "</style>\n",
       "<table border=\"1\" class=\"dataframe\">\n",
       "  <thead>\n",
       "    <tr style=\"text-align: right;\">\n",
       "      <th></th>\n",
       "      <th>Antes</th>\n",
       "      <th>Depois</th>\n",
       "      <th>di</th>\n",
       "      <th>di2</th>\n",
       "    </tr>\n",
       "  </thead>\n",
       "  <tbody>\n",
       "    <tr>\n",
       "      <th>0</th>\n",
       "      <td>200</td>\n",
       "      <td>191</td>\n",
       "      <td>9</td>\n",
       "      <td>81</td>\n",
       "    </tr>\n",
       "    <tr>\n",
       "      <th>1</th>\n",
       "      <td>174</td>\n",
       "      <td>170</td>\n",
       "      <td>4</td>\n",
       "      <td>16</td>\n",
       "    </tr>\n",
       "    <tr>\n",
       "      <th>2</th>\n",
       "      <td>198</td>\n",
       "      <td>177</td>\n",
       "      <td>21</td>\n",
       "      <td>441</td>\n",
       "    </tr>\n",
       "    <tr>\n",
       "      <th>3</th>\n",
       "      <td>170</td>\n",
       "      <td>167</td>\n",
       "      <td>3</td>\n",
       "      <td>9</td>\n",
       "    </tr>\n",
       "    <tr>\n",
       "      <th>4</th>\n",
       "      <td>179</td>\n",
       "      <td>159</td>\n",
       "      <td>20</td>\n",
       "      <td>400</td>\n",
       "    </tr>\n",
       "  </tbody>\n",
       "</table>\n",
       "</div>"
      ],
      "text/plain": [
       "   Antes  Depois  di  di2\n",
       "0    200     191   9   81\n",
       "1    174     170   4   16\n",
       "2    198     177  21  441\n",
       "3    170     167   3    9\n",
       "4    179     159  20  400"
      ]
     },
     "execution_count": 287,
     "metadata": {},
     "output_type": "execute_result"
    }
   ],
   "source": [
    "df['di'] = df['Antes'] - df['Depois']\n",
    "df['di2'] = df['di']**2\n",
    "print('A soma de di é',sum(df['di']))\n",
    "print('A soma de di2 é',sum(df['di2']))\n",
    "df"
   ]
  },
  {
   "cell_type": "markdown",
   "id": "871a01c7",
   "metadata": {},
   "source": [
    "4. Passo: Encontrar o valor $\\bar{d}$, que é a média das diferenças di:<br>\n",
    "$\\bar{d} = \\dfrac{ \\sum d}{n}$"
   ]
  },
  {
   "cell_type": "code",
   "execution_count": 272,
   "id": "c6697f9c",
   "metadata": {
    "ExecuteTime": {
     "end_time": "2022-07-03T18:43:58.603102Z",
     "start_time": "2022-07-03T18:43:58.594100Z"
    }
   },
   "outputs": [
    {
     "data": {
      "text/plain": [
       "11.4"
      ]
     },
     "execution_count": 272,
     "metadata": {},
     "output_type": "execute_result"
    }
   ],
   "source": [
    "d_ = df['di'].mean()\n",
    "d_"
   ]
  },
  {
   "cell_type": "markdown",
   "id": "14423eb9",
   "metadata": {},
   "source": [
    "5. Passo: Calcular o desvio padrão $\\left( S_d \\right)$ das diferenças $D_i$. <br>\n",
    "$S_d=\\sqrt{\\dfrac{n\\left(\\sum D_i^2 \\right) - \\left( \\sum D_i \\right) ^2}{n \\cdot \\left( n - 1 \\right)}}$"
   ]
  },
  {
   "cell_type": "code",
   "execution_count": 296,
   "id": "1f19f3f5",
   "metadata": {
    "ExecuteTime": {
     "end_time": "2022-07-03T18:58:51.894347Z",
     "start_time": "2022-07-03T18:58:51.889345Z"
    }
   },
   "outputs": [
    {
     "data": {
      "text/plain": [
       "8.62"
      ]
     },
     "execution_count": 296,
     "metadata": {},
     "output_type": "execute_result"
    }
   ],
   "source": [
    "sd = round(np.sqrt(((len(df)*(df['di2'].sum()))-(df['di'].sum())**2)  / ( len(df) * (len(df) - 1))), 2)\n",
    "sd"
   ]
  },
  {
   "cell_type": "markdown",
   "id": "4fc3c6f7",
   "metadata": {
    "ExecuteTime": {
     "end_time": "2022-07-03T18:58:14.013617Z",
     "start_time": "2022-07-03T18:58:14.000608Z"
    }
   },
   "source": [
    "6. Passo: Calcular a estatística de teste $T_p$: <br>\n",
    "$T_p = \\dfrac{ \\bar{d}}{ \\dfrac{S_d}{\\sqrt{n}}}$"
   ]
  },
  {
   "cell_type": "code",
   "execution_count": 302,
   "id": "de2e7f55",
   "metadata": {
    "ExecuteTime": {
     "end_time": "2022-07-03T19:07:37.480183Z",
     "start_time": "2022-07-03T19:07:37.474183Z"
    }
   },
   "outputs": [
    {
     "data": {
      "text/plain": [
       "2.96"
      ]
     },
     "execution_count": 302,
     "metadata": {},
     "output_type": "execute_result"
    }
   ],
   "source": [
    "tp = round(d_ / (sd / np.sqrt(len(df))), 2)\n",
    "tp "
   ]
  },
  {
   "cell_type": "markdown",
   "id": "9c71f745",
   "metadata": {
    "ExecuteTime": {
     "end_time": "2022-07-03T19:07:12.397695Z",
     "start_time": "2022-07-03T19:07:12.393681Z"
    }
   },
   "source": [
    "7. Passo: Calcular o valor-p utilizando a tabela t-Student:"
   ]
  },
  {
   "cell_type": "code",
   "execution_count": 308,
   "id": "a432e5a7",
   "metadata": {
    "ExecuteTime": {
     "end_time": "2022-07-03T19:18:43.182829Z",
     "start_time": "2022-07-03T19:18:43.169682Z"
    }
   },
   "outputs": [
    {
     "data": {
      "text/plain": [
       "0.04155443516210595"
      ]
     },
     "execution_count": 308,
     "metadata": {},
     "output_type": "execute_result"
    }
   ],
   "source": [
    "p = t.sf(np.abs(tp), len(df) - 1) * 2\n",
    "p"
   ]
  },
  {
   "cell_type": "markdown",
   "id": "48615efb",
   "metadata": {
    "ExecuteTime": {
     "end_time": "2022-07-03T19:32:09.422307Z",
     "start_time": "2022-07-03T19:32:09.396392Z"
    }
   },
   "source": [
    "8. Passo O cálculo do intervalo de confiança."
   ]
  },
  {
   "cell_type": "code",
   "execution_count": 311,
   "id": "2613a550",
   "metadata": {
    "ExecuteTime": {
     "end_time": "2022-07-03T19:23:26.208255Z",
     "start_time": "2022-07-03T19:23:26.195666Z"
    }
   },
   "outputs": [
    {
     "data": {
      "text/plain": [
       "(0.6968563354835347, 22.103143664516466)"
      ]
     },
     "execution_count": 311,
     "metadata": {},
     "output_type": "execute_result"
    }
   ],
   "source": [
    "resp = t.interval(0.95, 4, d_, sd/ (5 ** 0.5))\n",
    "resp"
   ]
  },
  {
   "cell_type": "code",
   "execution_count": 314,
   "id": "53c92368",
   "metadata": {
    "ExecuteTime": {
     "end_time": "2022-07-03T19:36:52.760167Z",
     "start_time": "2022-07-03T19:36:52.746156Z"
    }
   },
   "outputs": [
    {
     "data": {
      "text/plain": [
       "2.7764451051977987"
      ]
     },
     "execution_count": 314,
     "metadata": {},
     "output_type": "execute_result"
    }
   ],
   "source": [
    "t_alpha = t.interval(0.95, 4)[1]\n",
    "t_alpha"
   ]
  },
  {
   "cell_type": "code",
   "execution_count": 315,
   "id": "86934b36",
   "metadata": {
    "ExecuteTime": {
     "end_time": "2022-07-03T19:38:01.619765Z",
     "start_time": "2022-07-03T19:38:01.603548Z"
    }
   },
   "outputs": [
    {
     "name": "stdout",
     "output_type": "stream",
     "text": [
      "Rejeita H0.\n"
     ]
    }
   ],
   "source": [
    "if p > 0.05:\n",
    "    print('Aceita H0.')\n",
    "else:\n",
    "    print('Rejeita H0.')"
   ]
  },
  {
   "cell_type": "code",
   "execution_count": 316,
   "id": "896c06c7",
   "metadata": {
    "ExecuteTime": {
     "end_time": "2022-07-03T19:48:01.805675Z",
     "start_time": "2022-07-03T19:48:01.778335Z"
    }
   },
   "outputs": [],
   "source": [
    "# Pesquisar como fazer assim\n",
    "from scipy.stats import wilcoxon"
   ]
  },
  {
   "cell_type": "markdown",
   "id": "91e8f3f8",
   "metadata": {
    "ExecuteTime": {
     "end_time": "2022-07-03T19:53:27.170598Z",
     "start_time": "2022-07-03T19:53:27.156605Z"
    }
   },
   "source": [
    "##### Exercício\n",
    "Uma distribuidora de combustíveis deseja verificar se um novo tipo de gasolina é eficaz na revitalização de motores velhos. Com esse objetivo, seleciona 12 automóveis de um mesmo modelo com mais de 8 anos de uso e, após regulagem de seus motores, verifica o consumo de combustível (em km/litro). Em seguida, o carro é abastecido com o novo tipo de combustível durante 15 semanas, e uma nova aferição do consumo é feita. Defina as variáveis aleatórias Xi e Yi como o rendimento do automóvel i respectivamente antes e após as 15 semanas. Vemos que Xi e Yi foram medidas em uma mesma unidade amostral e, assim, é razoável assumir que exista alguma dependência entre elas. Ao medir a característica de interesse em duas ocasiões, para cada uma das unidades amostrais, pretende-se diminuir a influência de outros fatores e ressaltar um possível efeito do tipo de gasolina no desempenho do veículo.\n",
    "\n",
    "Os dados coletados para os 12 automóveis são apresentados na tabela a seguir:"
   ]
  },
  {
   "cell_type": "code",
   "execution_count": 341,
   "id": "0c783028",
   "metadata": {
    "ExecuteTime": {
     "end_time": "2022-07-03T20:10:35.647154Z",
     "start_time": "2022-07-03T20:10:35.627345Z"
    }
   },
   "outputs": [
    {
     "data": {
      "text/html": [
       "<div>\n",
       "<style scoped>\n",
       "    .dataframe tbody tr th:only-of-type {\n",
       "        vertical-align: middle;\n",
       "    }\n",
       "\n",
       "    .dataframe tbody tr th {\n",
       "        vertical-align: top;\n",
       "    }\n",
       "\n",
       "    .dataframe thead th {\n",
       "        text-align: right;\n",
       "    }\n",
       "</style>\n",
       "<table border=\"1\" class=\"dataframe\">\n",
       "  <thead>\n",
       "    <tr style=\"text-align: right;\">\n",
       "      <th></th>\n",
       "      <th>Após</th>\n",
       "      <th>Antes</th>\n",
       "    </tr>\n",
       "  </thead>\n",
       "  <tbody>\n",
       "    <tr>\n",
       "      <th>0</th>\n",
       "      <td>11.6</td>\n",
       "      <td>8.1</td>\n",
       "    </tr>\n",
       "    <tr>\n",
       "      <th>1</th>\n",
       "      <td>8.8</td>\n",
       "      <td>7.9</td>\n",
       "    </tr>\n",
       "    <tr>\n",
       "      <th>2</th>\n",
       "      <td>9.9</td>\n",
       "      <td>6.8</td>\n",
       "    </tr>\n",
       "    <tr>\n",
       "      <th>3</th>\n",
       "      <td>9.5</td>\n",
       "      <td>7.8</td>\n",
       "    </tr>\n",
       "    <tr>\n",
       "      <th>4</th>\n",
       "      <td>11.6</td>\n",
       "      <td>7.6</td>\n",
       "    </tr>\n",
       "    <tr>\n",
       "      <th>5</th>\n",
       "      <td>9.1</td>\n",
       "      <td>7.9</td>\n",
       "    </tr>\n",
       "    <tr>\n",
       "      <th>6</th>\n",
       "      <td>10.6</td>\n",
       "      <td>5.7</td>\n",
       "    </tr>\n",
       "    <tr>\n",
       "      <th>7</th>\n",
       "      <td>10.8</td>\n",
       "      <td>8.4</td>\n",
       "    </tr>\n",
       "    <tr>\n",
       "      <th>8</th>\n",
       "      <td>13.4</td>\n",
       "      <td>8.0</td>\n",
       "    </tr>\n",
       "    <tr>\n",
       "      <th>9</th>\n",
       "      <td>10.6</td>\n",
       "      <td>9.5</td>\n",
       "    </tr>\n",
       "    <tr>\n",
       "      <th>10</th>\n",
       "      <td>10.5</td>\n",
       "      <td>8.0</td>\n",
       "    </tr>\n",
       "    <tr>\n",
       "      <th>11</th>\n",
       "      <td>11.4</td>\n",
       "      <td>6.8</td>\n",
       "    </tr>\n",
       "  </tbody>\n",
       "</table>\n",
       "</div>"
      ],
      "text/plain": [
       "    Após  Antes\n",
       "0   11.6    8.1\n",
       "1    8.8    7.9\n",
       "2    9.9    6.8\n",
       "3    9.5    7.8\n",
       "4   11.6    7.6\n",
       "5    9.1    7.9\n",
       "6   10.6    5.7\n",
       "7   10.8    8.4\n",
       "8   13.4    8.0\n",
       "9   10.6    9.5\n",
       "10  10.5    8.0\n",
       "11  11.4    6.8"
      ]
     },
     "execution_count": 341,
     "metadata": {},
     "output_type": "execute_result"
    }
   ],
   "source": [
    "dados =  {\"Após\": [11.6, 8.8, 9.9, 9.5, 11.6, 9.1, 10.6, 10.8, 13.4, 10.6, 10.5, 11.4],\n",
    "          \"Antes\": [8.1, 7.9, 6.8, 7.8, 7.6, 7.9, 5.7, 8.4, 8, 9.5, 8, 6.8]}\n",
    "df = pd.DataFrame(dados)\n",
    "df"
   ]
  },
  {
   "cell_type": "markdown",
   "id": "3e95c57d",
   "metadata": {
    "ExecuteTime": {
     "end_time": "2022-07-03T20:10:17.581755Z",
     "start_time": "2022-07-03T20:10:17.568738Z"
    }
   },
   "source": [
    "Utilizando um nível de significância de 5%, verifique se houve diferença no redimento dos veículos."
   ]
  },
  {
   "cell_type": "code",
   "execution_count": 345,
   "id": "118b6c40",
   "metadata": {
    "ExecuteTime": {
     "end_time": "2022-07-03T20:13:45.399390Z",
     "start_time": "2022-07-03T20:13:45.395399Z"
    }
   },
   "outputs": [],
   "source": [
    "n = len(df)\n",
    "a = 0.05\n",
    "t_alpha = round(t.interval(1 - a, n - 1)[1], 4)"
   ]
  },
  {
   "cell_type": "code",
   "execution_count": 346,
   "id": "5839fc16",
   "metadata": {
    "ExecuteTime": {
     "end_time": "2022-07-03T20:15:21.025006Z",
     "start_time": "2022-07-03T20:15:20.902928Z"
    }
   },
   "outputs": [
    {
     "data": {
      "text/html": [
       "<div>\n",
       "<style scoped>\n",
       "    .dataframe tbody tr th:only-of-type {\n",
       "        vertical-align: middle;\n",
       "    }\n",
       "\n",
       "    .dataframe tbody tr th {\n",
       "        vertical-align: top;\n",
       "    }\n",
       "\n",
       "    .dataframe thead th {\n",
       "        text-align: right;\n",
       "    }\n",
       "</style>\n",
       "<table border=\"1\" class=\"dataframe\">\n",
       "  <thead>\n",
       "    <tr style=\"text-align: right;\">\n",
       "      <th></th>\n",
       "      <th>Após</th>\n",
       "      <th>Antes</th>\n",
       "      <th>di</th>\n",
       "      <th>di2</th>\n",
       "    </tr>\n",
       "  </thead>\n",
       "  <tbody>\n",
       "    <tr>\n",
       "      <th>0</th>\n",
       "      <td>11.6</td>\n",
       "      <td>8.1</td>\n",
       "      <td>3.5</td>\n",
       "      <td>12.25</td>\n",
       "    </tr>\n",
       "    <tr>\n",
       "      <th>1</th>\n",
       "      <td>8.8</td>\n",
       "      <td>7.9</td>\n",
       "      <td>0.9</td>\n",
       "      <td>0.81</td>\n",
       "    </tr>\n",
       "    <tr>\n",
       "      <th>2</th>\n",
       "      <td>9.9</td>\n",
       "      <td>6.8</td>\n",
       "      <td>3.1</td>\n",
       "      <td>9.61</td>\n",
       "    </tr>\n",
       "    <tr>\n",
       "      <th>3</th>\n",
       "      <td>9.5</td>\n",
       "      <td>7.8</td>\n",
       "      <td>1.7</td>\n",
       "      <td>2.89</td>\n",
       "    </tr>\n",
       "    <tr>\n",
       "      <th>4</th>\n",
       "      <td>11.6</td>\n",
       "      <td>7.6</td>\n",
       "      <td>4.0</td>\n",
       "      <td>16.00</td>\n",
       "    </tr>\n",
       "    <tr>\n",
       "      <th>5</th>\n",
       "      <td>9.1</td>\n",
       "      <td>7.9</td>\n",
       "      <td>1.2</td>\n",
       "      <td>1.44</td>\n",
       "    </tr>\n",
       "    <tr>\n",
       "      <th>6</th>\n",
       "      <td>10.6</td>\n",
       "      <td>5.7</td>\n",
       "      <td>4.9</td>\n",
       "      <td>24.01</td>\n",
       "    </tr>\n",
       "    <tr>\n",
       "      <th>7</th>\n",
       "      <td>10.8</td>\n",
       "      <td>8.4</td>\n",
       "      <td>2.4</td>\n",
       "      <td>5.76</td>\n",
       "    </tr>\n",
       "    <tr>\n",
       "      <th>8</th>\n",
       "      <td>13.4</td>\n",
       "      <td>8.0</td>\n",
       "      <td>5.4</td>\n",
       "      <td>29.16</td>\n",
       "    </tr>\n",
       "    <tr>\n",
       "      <th>9</th>\n",
       "      <td>10.6</td>\n",
       "      <td>9.5</td>\n",
       "      <td>1.1</td>\n",
       "      <td>1.21</td>\n",
       "    </tr>\n",
       "    <tr>\n",
       "      <th>10</th>\n",
       "      <td>10.5</td>\n",
       "      <td>8.0</td>\n",
       "      <td>2.5</td>\n",
       "      <td>6.25</td>\n",
       "    </tr>\n",
       "    <tr>\n",
       "      <th>11</th>\n",
       "      <td>11.4</td>\n",
       "      <td>6.8</td>\n",
       "      <td>4.6</td>\n",
       "      <td>21.16</td>\n",
       "    </tr>\n",
       "  </tbody>\n",
       "</table>\n",
       "</div>"
      ],
      "text/plain": [
       "    Após  Antes   di    di2\n",
       "0   11.6    8.1  3.5  12.25\n",
       "1    8.8    7.9  0.9   0.81\n",
       "2    9.9    6.8  3.1   9.61\n",
       "3    9.5    7.8  1.7   2.89\n",
       "4   11.6    7.6  4.0  16.00\n",
       "5    9.1    7.9  1.2   1.44\n",
       "6   10.6    5.7  4.9  24.01\n",
       "7   10.8    8.4  2.4   5.76\n",
       "8   13.4    8.0  5.4  29.16\n",
       "9   10.6    9.5  1.1   1.21\n",
       "10  10.5    8.0  2.5   6.25\n",
       "11  11.4    6.8  4.6  21.16"
      ]
     },
     "execution_count": 346,
     "metadata": {},
     "output_type": "execute_result"
    }
   ],
   "source": [
    "df['di'] = df[\"Após\"] - df[\"Antes\"]\n",
    "df['di2'] = df['di'] ** 2\n",
    "df"
   ]
  },
  {
   "cell_type": "code",
   "execution_count": 349,
   "id": "1f985936",
   "metadata": {
    "ExecuteTime": {
     "end_time": "2022-07-03T20:17:46.563045Z",
     "start_time": "2022-07-03T20:17:46.546773Z"
    }
   },
   "outputs": [
    {
     "data": {
      "text/plain": [
       "2.941666666666667"
      ]
     },
     "execution_count": 349,
     "metadata": {},
     "output_type": "execute_result"
    }
   ],
   "source": [
    "d_ = df['di'].mean()\n",
    "d_"
   ]
  },
  {
   "cell_type": "code",
   "execution_count": 350,
   "id": "ea665d83",
   "metadata": {
    "ExecuteTime": {
     "end_time": "2022-07-03T20:17:47.189019Z",
     "start_time": "2022-07-03T20:17:47.171928Z"
    }
   },
   "outputs": [
    {
     "data": {
      "text/plain": [
       "1.56"
      ]
     },
     "execution_count": 350,
     "metadata": {},
     "output_type": "execute_result"
    }
   ],
   "source": [
    "sd = round(np.sqrt(((len(df)*(df['di2'].sum()))-(df['di'].sum())**2)  / ( len(df) * (len(df) - 1))), 2)\n",
    "sd"
   ]
  },
  {
   "cell_type": "code",
   "execution_count": 351,
   "id": "4658046f",
   "metadata": {
    "ExecuteTime": {
     "end_time": "2022-07-03T20:17:47.764011Z",
     "start_time": "2022-07-03T20:17:47.746940Z"
    }
   },
   "outputs": [
    {
     "data": {
      "text/plain": [
       "6.53"
      ]
     },
     "execution_count": 351,
     "metadata": {},
     "output_type": "execute_result"
    }
   ],
   "source": [
    "tp = round(d_ / (sd / np.sqrt(len(df))), 2)\n",
    "tp "
   ]
  },
  {
   "cell_type": "code",
   "execution_count": 352,
   "id": "0ea47914",
   "metadata": {
    "ExecuteTime": {
     "end_time": "2022-07-03T20:18:08.079225Z",
     "start_time": "2022-07-03T20:18:08.068218Z"
    }
   },
   "outputs": [
    {
     "data": {
      "text/plain": [
       "4.249819179929982e-05"
      ]
     },
     "execution_count": 352,
     "metadata": {},
     "output_type": "execute_result"
    }
   ],
   "source": [
    "p = t.sf(np.abs(tp), len(df) - 1) * 2\n",
    "p"
   ]
  },
  {
   "cell_type": "code",
   "execution_count": 353,
   "id": "32f82408",
   "metadata": {
    "ExecuteTime": {
     "end_time": "2022-07-03T20:18:40.232562Z",
     "start_time": "2022-07-03T20:18:40.221567Z"
    }
   },
   "outputs": [
    {
     "name": "stdout",
     "output_type": "stream",
     "text": [
      "Rejeita H0.\n"
     ]
    }
   ],
   "source": [
    "if p > a:\n",
    "    print(\"Aceita H0.\")\n",
    "else:\n",
    "    print(\"Rejeita H0.\")"
   ]
  },
  {
   "cell_type": "code",
   "execution_count": 391,
   "id": "419bc028",
   "metadata": {
    "ExecuteTime": {
     "end_time": "2022-07-03T21:06:35.062204Z",
     "start_time": "2022-07-03T21:06:35.032563Z"
    }
   },
   "outputs": [],
   "source": [
    "# Comparação automática \n",
    "from scipy.stats import ttest_rel"
   ]
  },
  {
   "cell_type": "code",
   "execution_count": 392,
   "id": "ac264d79",
   "metadata": {
    "ExecuteTime": {
     "end_time": "2022-07-03T21:07:00.671069Z",
     "start_time": "2022-07-03T21:07:00.517994Z"
    }
   },
   "outputs": [
    {
     "data": {
      "text/plain": [
       "Ttest_relResult(statistic=-6.539586006960168, pvalue=4.194603259445353e-05)"
      ]
     },
     "execution_count": 392,
     "metadata": {},
     "output_type": "execute_result"
    }
   ],
   "source": [
    "ttest_rel(df['Antes'], df['Após'])"
   ]
  },
  {
   "cell_type": "markdown",
   "id": "4fe543d8",
   "metadata": {
    "ExecuteTime": {
     "end_time": "2022-07-03T21:40:24.235979Z",
     "start_time": "2022-07-03T21:40:24.218968Z"
    }
   },
   "source": [
    "### Comparação de duas médias: teste t-Student <br>(Amostras independentes)\n",
    "Uma questão que aparece com frequência é: “O método A é melhor do que o método B?” \n",
    "\n",
    "Em termos estatísticos, ela equivale a comparar dois conjuntos de informações, resultantes das medidas obtidas da aplicação dos dois métodos a dois conjuntos de objetos ou indivíduos.\n",
    "\n",
    "O teste t-Student, ou simplesmente teste t, é o método mais utilizado para se avaliarem as diferenças entre as médias de dois grupos para os casos em que as variâncias populacionais são desconhecidas. \n",
    "\n",
    "Suponha que queremos comparar duas médias de duas populações independentes e ambas com distribuição Normal. Da população 1 retiramos uma amostra aleatória de tamanho e da população 2 retiramos uma amostra aleatória de tamanho .\n",
    "\n",
    "Suposições:<br>\n",
    "**✓** As duas amostras são independentes;<br>\n",
    "**✓** As duas amostras são extraídas aleatoriamente de populações distribuídas normalmente. Caso a suposição de normalidade não seja comprovada pode-se optar por realizar testes não-paramétricos. Estes não necessitam de pressupostos sobre a distribuição dos dados.\n",
    "\n",
    "Consideramos dois casos distintos para o teste de hipóteses para comparação de duas médias. O primeiro caso em que as variâncias das populações são desconhecidas, porém iguais (homocedasticidade) e o segundo caso em que as variâncias são desconhecidas e distintas (heterocedasticidade).\n"
   ]
  },
  {
   "cell_type": "markdown",
   "id": "603df060",
   "metadata": {
    "ExecuteTime": {
     "end_time": "2022-07-03T21:42:58.389013Z",
     "start_time": "2022-07-03T21:42:58.383030Z"
    }
   },
   "source": [
    "**Caso 1: As duas populações parecem ter variâncias iguais (Homocedásticas):**\n",
    "\n",
    "\n",
    "Notação utilizada:<br>\n",
    "$\\bar{x_1}$ = média da 1ª amostra <br>\n",
    "$\\bar{x_2}$ = média da 2ª amostra <br>\n",
    "$\\bar{n_1}$ = tamanho da 1ª amostra <br>\n",
    "$\\bar{n_2}$ = tamanho da 2ª amostra <br>\n",
    "$\\bar{S_1^2}$ = variância da 1ª amostra <br>\n",
    "$\\bar{S_2^2}$ = variância da 2ª amostra\n",
    "\n",
    "Hipóteses: <br>\n",
    "$H_0: \\mu_1 = \\mu_2$  versus  $H_A: \\mu_1 \\neq \\mu_2   \\to$ Hipótese bilateral<br>\n",
    "$H_0: \\mu_1 \\leq \\mu_2$  versus  $H_A: \\mu_1 > \\mu_2   \\to$ Hipótese unilateral à direita<br>\n",
    "$H_0: \\mu_1 \\geq \\mu_2$  versus  $H_A: \\mu_1 < \\mu_2   \\to$ Hipótese unilateral à esquerda\n"
   ]
  },
  {
   "cell_type": "markdown",
   "id": "308635ae",
   "metadata": {
    "ExecuteTime": {
     "end_time": "2022-07-03T21:43:14.872894Z",
     "start_time": "2022-07-03T21:43:14.855798Z"
    }
   },
   "source": [
    "Estatística de teste:<br>\n",
    "$$ t_o = \\dfrac{\\left( \\bar{x_1} - \\bar{x_2} \\right)}{ \\sqrt{ \\dfrac{s_{comb}^2}{n_1} + \\dfrac{s_{comb}^2}{n_2}}} $$"
   ]
  },
  {
   "cell_type": "markdown",
   "id": "ecf04eaf",
   "metadata": {},
   "source": [
    "Como a variância populacional $\\sigma^2$ é desconhecida, precisará ser estimada. Tendo em vista que $s_1^2 \\text{e} s_2^2$ são \n",
    "ambos estimadores não viciados dessa variância, usaremos como estimativa para $\\sigma^2$ uma combinação deles, a variância combinada, que é encontrada da seguinte maneira:\n",
    "$$ S_{comb}^2 = \\dfrac{ \\left(n_1 - 1 \\right)s_1^2 + \\left(n_3 - 1 \\right)s_2^2}{\\left(n_1 - 1\\right)+\\left(n_2-1\\right)} $$"
   ]
  },
  {
   "cell_type": "markdown",
   "id": "3895f310",
   "metadata": {
    "ExecuteTime": {
     "end_time": "2022-07-03T22:33:25.870137Z",
     "start_time": "2022-07-03T22:33:25.806488Z"
    }
   },
   "source": [
    "valor p:\n",
    "\n",
    "| Tipo de teste |Valor P|\n",
    "| :-------|--------|\n",
    "| Unilateral direito | Área à direita da estatística de teste |\n",
    "| Bilateral | 2 x a área à direita do módulo da estatística de teste |\n",
    "| Unilateral esquerdo | Área à esquerda da estatística de teste |"
   ]
  },
  {
   "cell_type": "markdown",
   "id": "d57e25b0",
   "metadata": {},
   "source": [
    "Número de graus de liberdade quando as variâncias amostrais são combinadas: $gl = n_1 + n_2 – 2$\n",
    "\n",
    "Concluindo um teste de hipótese utilizando o valor p:<br>\n",
    "- Se valor p > $\\alpha$, então aceitamos $H_0$; <br>\n",
    "- Se valor p < $\\alpha$, então rejeitamos $H_0$. <br>\n",
    "Conclusão utilizando o intervalo de confiança (somente para hipóteses bilaterais):\n",
    "\n",
    "Intervalo de confiança: $\\left(\\bar{x_1}-\\bar{x_2}\\right)\\pm\\left(t_{gl;\\dfrac{\\alpha}{2}}\\right)\\cdot\\sqrt{\\dfrac{s_{comb}^2}{n_1}+\\dfrac{s_{comb}^2}{n_2}}$"
   ]
  },
  {
   "cell_type": "markdown",
   "id": "75c95cb6",
   "metadata": {},
   "source": [
    "**Por meio desse intervalo de confiança é possível obter duas respostas:**<br><br>\n",
    "**✓** Verificar se as duas médias são iguais ou diferentes:<br>\n",
    "        Podemos rescrever as hipóteses estatísticas da seguinte maneira:\n",
    "        \n",
    "        \n",
    "$H_0:\\mu_1-\\mu_2=0$  versus $H_1:\\mu_1\\mu_2\\neq$\n",
    "       \n",
    "        \n",
    "  Ou seja, se o intervalo contém 0 (zero) há indícios de que as duas médias são iguais, caso contrário, se o intervalo não contém 0 (zero) pode-se concluir com 100(1-$\\alpha$)% de confiança que as duas médias são diferentes.\n",
    "        \n",
    "        \n",
    "**✓** Se o intervalo de confiança indicar que as duas médias são diferentes é possível verificar qual média é maior ou menor:\n",
    "\n",
    "\n",
    "        - Se os limites do intervalo do confiança apresentam sinal negativo (-) pode-se dizer que a média da 2ª amostra é maior do que a média da 1ª amostra.<br>\n",
    "        - Ao contrário, se os limites do intervalo apresentarem sinal positivo (+) conclui-se que a média da 1ª amostra é maior que a média da 2ª amostra."
   ]
  },
  {
   "cell_type": "markdown",
   "id": "878a21d1",
   "metadata": {},
   "source": [
    "**Caso 1: As duas populações parecem ter variâncias desiguais (Heterocedásticas):**\n",
    "\n",
    "\n",
    "Notação utilizada:<br>\n",
    "$\\bar{x_1}$ = média da 1ª amostra <br>\n",
    "$\\bar{x_2}$ = média da 2ª amostra <br>\n",
    "$\\bar{n_1}$ = tamanho da 1ª amostra <br>\n",
    "$\\bar{n_2}$ = tamanho da 2ª amostra <br>\n",
    "$\\bar{S_1^2}$ = variância da 1ª amostra <br>\n",
    "$\\bar{S_2^2}$ = variância da 2ª amostra\n",
    "\n",
    "Hipóteses: <br>\n",
    "$H_0: \\mu_1 = \\mu_2$  versus  $H_A: \\mu_1 \\neq \\mu_2   \\to$ Hipótese bilateral<br>\n",
    "$H_0: \\mu_1 \\leq \\mu_2$  versus  $H_A: \\mu_1 > \\mu_2   \\to$ Hipótese unilateral à direita<br>\n",
    "$H_0: \\mu_1 \\geq \\mu_2$  versus  $H_A: \\mu_1 < \\mu_2   \\to$ Hipótese unilateral à esquerda"
   ]
  },
  {
   "cell_type": "markdown",
   "id": "3e620463",
   "metadata": {},
   "source": [
    "Estatística de teste:\n",
    "$$ t_0=\\dfrac{\\left(\\bar{x_1}-\\bar{x_2}\\right)}{\\sqrt{\\dfrac{s_1^2}{n_1}+\\dfrac{s_2^2}{n_2}}} $$"
   ]
  },
  {
   "cell_type": "markdown",
   "id": "278037d7",
   "metadata": {},
   "source": [
    "valor p:\n",
    "\n",
    "| Tipo de teste |Valor P|\n",
    "| :-------|--------|\n",
    "| Unilateral direito | Área à direita da estatística de teste |\n",
    "| Bilateral | 2 x a área à direita do módulo da estatística de teste |\n",
    "| Unilateral esquerdo | Área à esquerda da estatística de teste |"
   ]
  },
  {
   "cell_type": "markdown",
   "id": "6a7c7ee1",
   "metadata": {},
   "source": [
    "Número de graus de liberdade: **o menor dos dois $n_1 – 1 \\text{ e }  n_2 – 1$**<br><br>\n",
    "Intervalo de confiança (para hipóteses bilaterais): \n",
    "$$ \\left(\\bar{x_1}-\\bar{x_2}\\right)\\pm\\left(t_{gl;\\dfrac{\\alpha}{2}}\\right)\\cdot\\sqrt{\\dfrac{s_1^2}{n_1}+\\dfrac{s_1^2}{n_2}}$$\n",
    "A conclusão do teste de hipóteses utilizando o valor p ou o intervalo de confiança deve ser feita da mesma maneira como descrito no Caso 1.\n"
   ]
  },
  {
   "cell_type": "markdown",
   "id": "6ca8fdc5",
   "metadata": {
    "ExecuteTime": {
     "end_time": "2022-07-03T22:58:49.594016Z",
     "start_time": "2022-07-03T22:58:49.521802Z"
    }
   },
   "source": [
    "### Comparação de duas variâncias: Teste Bilateral\n",
    "Esse teste é, muitas vezes, usado em conexão com o teste t-Sudent para duas médias (amostras independentes), em que é necessário verificar a homocedasticidade (igualdade) ou heterocedasticidade (diferença) das variâncias. Suponha que temos duas amostras aleatórias e independentes, de tamanhos n1 e n2, retiradas de duas populações normais com variâncias $\\sigma_1^2$ e $\\sigma_2^2$. Desejamos testar a hipótese bilateral:\n",
    "$$ H_0:\\sigma_1^2=\\sigma_2^2$-------$H_A:\\sigma_1^2\\neq\\sigma_2^2 $$\n",
    "\n",
    "Para isso, utilizaremos a seguinte estatística de teste:\n",
    "$$ F=\\dfrac{s_1^2}{s_2^2} $$\n",
    "onde $s_1^2$ e $s_2^2$ são as variâncias amostrais correspondentes. Baseado na suposição de que as populações amostradas têm distribuição normal e que a hipótese nula é $\\sigma_1^2=\\sigma_2^2$, pode ser mostrado que a estatística de teste F, chamada de razão de variâncias, segue o modelo Fisher-Snedecor, que é caracterizado pelos graus de liberdade associados às quantidades presentes no numerador (n1 – 1) e no denominador (n2 – 1) da estatística de teste.Para um teste bilateral, a regra de decisão para um nível de significância ($\\alpha$) é: \n",
    "\n",
    "Rejeitar $H_0$ se: $F < F_L$ ou se $F > F_r$<br><br>\n",
    "\n",
    "onde os valores críticos são obtidos por: $F_L=\\dfrac{1}{F_{n_2-1;n_1-1;\\dfrac{\\alpha}{2}}}$ e $F_R=F_{n_1-1;n_2-1:\\dfrac{\\alpha}{2}}$\n",
    "\n",
    "\n",
    "Os valores $𝐹_{𝑛_2−1;𝑛_1−1;\\dfrac{\\alpha}{2}}$ e $F_{n_1-1,n_2-1;\\dfrac{\\alpha}{2}}$ são encontrados na tabela F.\n",
    "\n",
    "Caso contrário, não rejeitamos $H_0$."
   ]
  },
  {
   "cell_type": "markdown",
   "id": "19fed7b8",
   "metadata": {},
   "source": [
    "##### Exemplo\n",
    "Um fabricante de esferas para rolamentos desenvolveu um novo método de produção, mais barato. Entretanto, ele desconfia que os novos lotes apresentam variabilidade diferente daqueles \n",
    "produzidos pelo método antigo (com relação ao diâmetro das esferas). Para cada método, ele selecionou uma amostra aleatória. As medidas descritivas para cada método encontram-se a \n",
    "seguir:\n",
    "    \n",
    "Método antigo: $n_1 = 15 ;\\bar{x_1} = 29.93 mm ; s_1^2 = 0.03 mm^2$ <br>\n",
    "Método novo: $n_2 = 10 ; \\bar{x_2} = 29.89 mm ; s_2^2 = 0.19 mm^2$\n",
    "    \n",
    "Nesse exemplo vamos construir o teste bilateral para comparação de duas variâncias para um nível de significância de 5%.\n"
   ]
  },
  {
   "cell_type": "code",
   "execution_count": 7,
   "id": "e0544f11",
   "metadata": {
    "ExecuteTime": {
     "end_time": "2022-07-05T00:33:57.316098Z",
     "start_time": "2022-07-05T00:33:57.302098Z"
    }
   },
   "outputs": [],
   "source": [
    "n1 = 15 \n",
    "n2 = 10\n",
    "x1 = 29.93\n",
    "x2 = 29.89\n",
    "s1 = 0.03\n",
    "s2 = 0.19\n",
    "a = 0.05"
   ]
  },
  {
   "cell_type": "markdown",
   "id": "dc75e8f1",
   "metadata": {},
   "source": [
    "$H_0: \\sigma_1^2=\\sigma_2^2$<BR>\n",
    "$H_A:\\sigma_1^2\\neq\\sigma_2^2$"
   ]
  },
  {
   "cell_type": "markdown",
   "id": "718fe36d",
   "metadata": {},
   "source": [
    "Estatística de teste: <br>\n",
    "$F=\\dfrac{s_1^2}{S_2^2}$"
   ]
  },
  {
   "cell_type": "code",
   "execution_count": 30,
   "id": "90a04c18",
   "metadata": {
    "ExecuteTime": {
     "end_time": "2022-07-05T00:46:41.414307Z",
     "start_time": "2022-07-05T00:46:41.396308Z"
    }
   },
   "outputs": [
    {
     "data": {
      "text/plain": [
       "0.15789473684210525"
      ]
     },
     "execution_count": 30,
     "metadata": {},
     "output_type": "execute_result"
    }
   ],
   "source": [
    "f = s1/s2\n",
    "f"
   ]
  },
  {
   "cell_type": "markdown",
   "id": "6ee82eb3",
   "metadata": {},
   "source": [
    "Para obter os valores críticos devemos consultar a tabela F:<br>\n",
    "$𝐹_{𝑛_2−1;𝑛_1−1;\\dfrac{\\alpha}{2}}$ e $F_{n_1-1,n_2-1;\\dfrac{\\alpha}{2}}$"
   ]
  },
  {
   "cell_type": "code",
   "execution_count": 29,
   "id": "85842a70",
   "metadata": {
    "ExecuteTime": {
     "end_time": "2022-07-05T00:46:39.597829Z",
     "start_time": "2022-07-05T00:46:39.593813Z"
    }
   },
   "outputs": [],
   "source": [
    "from scipy.stats import f as ff"
   ]
  },
  {
   "cell_type": "code",
   "execution_count": 12,
   "id": "7a6e1e41",
   "metadata": {
    "ExecuteTime": {
     "end_time": "2022-07-05T00:35:35.766568Z",
     "start_time": "2022-07-05T00:35:35.749574Z"
    }
   },
   "outputs": [
    {
     "data": {
      "text/plain": [
       "3.2093003408966854"
      ]
     },
     "execution_count": 12,
     "metadata": {},
     "output_type": "execute_result"
    }
   ],
   "source": [
    "fn2 = f.interval(1 - a, n2 - 1, n1 - 1)[1]\n",
    "fn2"
   ]
  },
  {
   "cell_type": "code",
   "execution_count": 14,
   "id": "172099d2",
   "metadata": {
    "ExecuteTime": {
     "end_time": "2022-07-05T00:37:09.832696Z",
     "start_time": "2022-07-05T00:37:09.813696Z"
    }
   },
   "outputs": [
    {
     "data": {
      "text/plain": [
       "3.7979524823204254"
      ]
     },
     "execution_count": 14,
     "metadata": {},
     "output_type": "execute_result"
    }
   ],
   "source": [
    "fn1 = f.interval(1-a, n1-1, n2-1)[1]\n",
    "fn1"
   ]
  },
  {
   "cell_type": "markdown",
   "id": "645ea049",
   "metadata": {},
   "source": [
    "Valores críticos são obtidos por:<br>\n",
    "$F_L=\\dfrac{1}{F_{n_2-1;n_1-1;\\dfrac{\\alpha}{2}}}$ e $F_R=F_{n_1-1;n_2-1:\\dfrac{\\alpha}{2}}$"
   ]
  },
  {
   "cell_type": "code",
   "execution_count": 33,
   "id": "b8b7388d",
   "metadata": {
    "ExecuteTime": {
     "end_time": "2022-07-05T00:47:18.516920Z",
     "start_time": "2022-07-05T00:47:18.511912Z"
    }
   },
   "outputs": [
    {
     "data": {
      "text/plain": [
       "0.3115943955935884"
      ]
     },
     "execution_count": 33,
     "metadata": {},
     "output_type": "execute_result"
    }
   ],
   "source": [
    "fl = 1/fn2\n",
    "fl"
   ]
  },
  {
   "cell_type": "code",
   "execution_count": 21,
   "id": "28efb1a3",
   "metadata": {
    "ExecuteTime": {
     "end_time": "2022-07-05T00:42:03.777022Z",
     "start_time": "2022-07-05T00:42:03.758013Z"
    }
   },
   "outputs": [
    {
     "data": {
      "text/plain": [
       "numpy.float64"
      ]
     },
     "execution_count": 21,
     "metadata": {},
     "output_type": "execute_result"
    }
   ],
   "source": [
    "fr = fn1\n",
    "fr"
   ]
  },
  {
   "cell_type": "code",
   "execution_count": 23,
   "id": "bc403428",
   "metadata": {
    "ExecuteTime": {
     "end_time": "2022-07-05T00:42:44.982462Z",
     "start_time": "2022-07-05T00:42:44.965461Z"
    }
   },
   "outputs": [
    {
     "name": "stdout",
     "output_type": "stream",
     "text": [
      "Rejeita H0.\n"
     ]
    }
   ],
   "source": [
    "if f < float(fl) or f > float(fr):\n",
    "    print('Rejeita H0.')\n",
    "else:\n",
    "    print('Aceita H0.')"
   ]
  },
  {
   "cell_type": "code",
   "execution_count": 31,
   "id": "a39b94e6",
   "metadata": {
    "ExecuteTime": {
     "end_time": "2022-07-05T00:46:47.033640Z",
     "start_time": "2022-07-05T00:46:47.029640Z"
    }
   },
   "outputs": [
    {
     "data": {
      "text/plain": [
       "0.0012161724137402209"
      ]
     },
     "execution_count": 31,
     "metadata": {},
     "output_type": "execute_result"
    }
   ],
   "source": [
    "p = ff.cdf(f, n1-1, n2-1)"
   ]
  },
  {
   "cell_type": "code",
   "execution_count": 34,
   "id": "a39ecad4",
   "metadata": {
    "ExecuteTime": {
     "end_time": "2022-07-05T00:53:26.041654Z",
     "start_time": "2022-07-05T00:53:26.030655Z"
    }
   },
   "outputs": [
    {
     "data": {
      "text/plain": [
       "0.004333293100170335"
      ]
     },
     "execution_count": 34,
     "metadata": {},
     "output_type": "execute_result"
    }
   ],
   "source": [
    "ff.cdf(f, n2-1, n1-1)"
   ]
  },
  {
   "cell_type": "code",
   "execution_count": 35,
   "id": "d3254012",
   "metadata": {
    "ExecuteTime": {
     "end_time": "2022-07-05T00:53:28.763141Z",
     "start_time": "2022-07-05T00:53:28.750143Z"
    }
   },
   "outputs": [],
   "source": [
    "from scipy.stats import f_oneway\n",
    "f_oneway(amostra1, amostra2)\n",
    "#Quando tem a base das amostras"
   ]
  },
  {
   "cell_type": "markdown",
   "id": "22c9c9db",
   "metadata": {},
   "source": [
    "##### Exercícios\n",
    "Um analista da qualidade quer avaliar se existe diferença na variabilidade da produção de eixo comando desenvolvido por dois sistemas de usinagem. A tabela a seguir apresenta as medidas descritivas de duas populações independentes com distribuição Normal. Podemos dizer que as variâncias de ambas são iguais? Utilize um nível de significância de 5%."
   ]
  },
  {
   "cell_type": "markdown",
   "id": "a042f57b",
   "metadata": {},
   "source": [
    "||Tamanho da amostra|Média da amostra | Desvio padrão da amostra|\n",
    "|------|-----|-----|-----|\n",
    "|Sistema de usinagem 1|25|19.3266|1.3623|\n",
    "|Sistema de usinagem 2|30|24.4729|2.8876"
   ]
  },
  {
   "cell_type": "code",
   "execution_count": 52,
   "id": "e9410cde",
   "metadata": {
    "ExecuteTime": {
     "end_time": "2022-07-05T01:11:53.734783Z",
     "start_time": "2022-07-05T01:11:53.718783Z"
    }
   },
   "outputs": [],
   "source": [
    "a = 0.05\n",
    "n1 = 25\n",
    "n2 = 30\n",
    "x1 = 19.3266\n",
    "x2 = 24.4729\n",
    "s1 = 1.3623 **2\n",
    "s2 = 2.8876 **2"
   ]
  },
  {
   "cell_type": "code",
   "execution_count": 54,
   "id": "d634086b",
   "metadata": {
    "ExecuteTime": {
     "end_time": "2022-07-05T01:12:01.400102Z",
     "start_time": "2022-07-05T01:12:01.383095Z"
    }
   },
   "outputs": [
    {
     "data": {
      "text/plain": [
       "0.22257247079146414"
      ]
     },
     "execution_count": 54,
     "metadata": {},
     "output_type": "execute_result"
    }
   ],
   "source": [
    "f = s1 / s2\n",
    "f"
   ]
  },
  {
   "cell_type": "markdown",
   "id": "1dc4d146",
   "metadata": {
    "ExecuteTime": {
     "end_time": "2022-07-05T01:07:41.864432Z",
     "start_time": "2022-07-05T01:07:41.847484Z"
    }
   },
   "source": [
    "fn2 = ff.interval(1 - a, n2 - 1, n1 - 1)[1]\n",
    "fn2"
   ]
  },
  {
   "cell_type": "code",
   "execution_count": 41,
   "id": "c472f205",
   "metadata": {
    "ExecuteTime": {
     "end_time": "2022-07-05T01:05:25.084828Z",
     "start_time": "2022-07-05T01:05:25.078825Z"
    }
   },
   "outputs": [
    {
     "data": {
      "text/plain": [
       "2.1540059930711766"
      ]
     },
     "execution_count": 41,
     "metadata": {},
     "output_type": "execute_result"
    }
   ],
   "source": [
    "fn1 = ff.interval(1 - a, n1 - 1, n2 - 1)[1]\n",
    "fn1"
   ]
  },
  {
   "cell_type": "code",
   "execution_count": 43,
   "id": "036c942b",
   "metadata": {
    "ExecuteTime": {
     "end_time": "2022-07-05T01:05:43.070301Z",
     "start_time": "2022-07-05T01:05:43.055292Z"
    }
   },
   "outputs": [
    {
     "data": {
      "text/plain": [
       "0.4509699296669817"
      ]
     },
     "execution_count": 43,
     "metadata": {},
     "output_type": "execute_result"
    }
   ],
   "source": [
    "fl = 1/fn2\n",
    "fl"
   ]
  },
  {
   "cell_type": "code",
   "execution_count": 44,
   "id": "ae0845a8",
   "metadata": {
    "ExecuteTime": {
     "end_time": "2022-07-05T01:05:52.401408Z",
     "start_time": "2022-07-05T01:05:52.390408Z"
    }
   },
   "outputs": [
    {
     "data": {
      "text/plain": [
       "2.1540059930711766"
      ]
     },
     "execution_count": 44,
     "metadata": {},
     "output_type": "execute_result"
    }
   ],
   "source": [
    "fr = fn1\n",
    "fr"
   ]
  },
  {
   "cell_type": "code",
   "execution_count": 50,
   "id": "fa581782",
   "metadata": {
    "ExecuteTime": {
     "end_time": "2022-07-05T01:08:20.321621Z",
     "start_time": "2022-07-05T01:08:20.310621Z"
    }
   },
   "outputs": [
    {
     "name": "stdout",
     "output_type": "stream",
     "text": [
      "Rejeita H0.\n"
     ]
    }
   ],
   "source": [
    "if f < float(fl) or f > float(fr):\n",
    "    print('Rejeita H0.')\n",
    "else:\n",
    "    print('Aceita H0.')"
   ]
  },
  {
   "cell_type": "markdown",
   "id": "4d832a0c",
   "metadata": {
    "ExecuteTime": {
     "end_time": "2022-07-05T01:12:10.750363Z",
     "start_time": "2022-07-05T01:12:10.743364Z"
    }
   },
   "source": [
    "##### Exercício\n",
    "Um consultor de saúde deseja comparar os índices de satisfação dos pacientes de dois hospitais. O consultor coleta as classificações de 20 pacientes para cada um dos hospitais. \n",
    "No hospital A a variância observada foi igual a 66,958 e no hospital B foi de 154,537. Execute um teste de duas variâncias para determinar se os desvios-padrão nas avaliações \n",
    "dos pacientes dos dois hospitais são diferentes. Utilize um nível de significância de 5%."
   ]
  },
  {
   "cell_type": "code",
   "execution_count": 56,
   "id": "0a03cd28",
   "metadata": {
    "ExecuteTime": {
     "end_time": "2022-07-05T01:14:15.612392Z",
     "start_time": "2022-07-05T01:14:15.607371Z"
    }
   },
   "outputs": [],
   "source": [
    "n1 = 20\n",
    "n2 = 20\n",
    "a = 0.05\n",
    "s1 = 66.958\n",
    "s2 = 154.537"
   ]
  },
  {
   "cell_type": "code",
   "execution_count": 61,
   "id": "7b02736e",
   "metadata": {
    "ExecuteTime": {
     "end_time": "2022-07-05T01:15:30.809716Z",
     "start_time": "2022-07-05T01:15:30.806702Z"
    }
   },
   "outputs": [
    {
     "data": {
      "text/plain": [
       "0.43328135009738766"
      ]
     },
     "execution_count": 61,
     "metadata": {},
     "output_type": "execute_result"
    }
   ],
   "source": [
    "f = s1 / s2\n",
    "f"
   ]
  },
  {
   "cell_type": "code",
   "execution_count": 60,
   "id": "0df546a3",
   "metadata": {
    "ExecuteTime": {
     "end_time": "2022-07-05T01:15:28.813007Z",
     "start_time": "2022-07-05T01:15:28.806996Z"
    }
   },
   "outputs": [
    {
     "data": {
      "text/plain": [
       "2.5264509335792606"
      ]
     },
     "execution_count": 60,
     "metadata": {},
     "output_type": "execute_result"
    }
   ],
   "source": [
    "fn2 = ff.interval(1 - a, n2 - 1, n1 - 1)[1]\n",
    "fn2"
   ]
  },
  {
   "cell_type": "code",
   "execution_count": 62,
   "id": "8a081111",
   "metadata": {
    "ExecuteTime": {
     "end_time": "2022-07-05T01:16:10.107487Z",
     "start_time": "2022-07-05T01:16:10.095488Z"
    }
   },
   "outputs": [
    {
     "data": {
      "text/plain": [
       "2.5264509335792606"
      ]
     },
     "execution_count": 62,
     "metadata": {},
     "output_type": "execute_result"
    }
   ],
   "source": [
    "fn1 = ff.interval(1 - a, n1 - 1, n2 - 1)[1]\n",
    "fn1"
   ]
  },
  {
   "cell_type": "code",
   "execution_count": 63,
   "id": "f8932ab7",
   "metadata": {
    "ExecuteTime": {
     "end_time": "2022-07-05T01:16:31.968556Z",
     "start_time": "2022-07-05T01:16:31.951561Z"
    }
   },
   "outputs": [
    {
     "data": {
      "text/plain": [
       "0.3958121595432234"
      ]
     },
     "execution_count": 63,
     "metadata": {},
     "output_type": "execute_result"
    }
   ],
   "source": [
    "fl = 1 / fn2\n",
    "fl"
   ]
  },
  {
   "cell_type": "code",
   "execution_count": 64,
   "id": "c27bca1c",
   "metadata": {
    "ExecuteTime": {
     "end_time": "2022-07-05T01:16:40.732039Z",
     "start_time": "2022-07-05T01:16:40.720042Z"
    }
   },
   "outputs": [
    {
     "data": {
      "text/plain": [
       "2.5264509335792606"
      ]
     },
     "execution_count": 64,
     "metadata": {},
     "output_type": "execute_result"
    }
   ],
   "source": [
    "fr = fn1\n",
    "fr"
   ]
  },
  {
   "cell_type": "code",
   "execution_count": 65,
   "id": "8482537d",
   "metadata": {
    "ExecuteTime": {
     "end_time": "2022-07-05T01:16:54.136647Z",
     "start_time": "2022-07-05T01:16:54.118654Z"
    }
   },
   "outputs": [
    {
     "name": "stdout",
     "output_type": "stream",
     "text": [
      "Aceita H0.\n"
     ]
    }
   ],
   "source": [
    "if f < float(fl) or f > float(fr):\n",
    "    print('Rejeita H0.')\n",
    "else:\n",
    "    print('Aceita H0.')"
   ]
  },
  {
   "cell_type": "markdown",
   "id": "5597ea81",
   "metadata": {},
   "source": [
    "##### Exemplo\n",
    "Digitadores são treinados em uma empresa em duas turmas distintas. Na primeira, denominada turma J, utiliza-se um método japonês de ensino, ao passo que na segunda turma, denominada turma A, utiliza-se um método alemão. Deseja-se comparar os dois métodos e para tanto, 16 alunos de cada turma foram escolhidos aleatoriamente e uma mesma tarefa foi atribuída a cada um. Ao final do experimento, o tempo gasto na realização da tarefa, para cada aluno, foi anotado. No processo, dois computadores utilizados pelos alunos selecionados da turma J e três da turma A apresentaram problemas que impediram a realização da tarefa; o tamanho da amostra foi assim reduzido para 14 e 13, respectivamente, para as turmas J e A. Os dados obtidos encontram-se resumidos a \n",
    "seguir:"
   ]
  },
  {
   "cell_type": "markdown",
   "id": "8b70236f",
   "metadata": {},
   "source": [
    "|Turma|n|Média|Desvio Padrão|\n",
    "|:-------:|:-------:|:-------:|:-------:|\n",
    "J|14|11,57|4,1|\n",
    "A|13|15,38|4,3|"
   ]
  },
  {
   "cell_type": "markdown",
   "id": "748ad0ff",
   "metadata": {},
   "source": [
    "Considerando-se um nível de 5% de significância, verifique se há evidências suficientes para afirmar que os dois métodos são equivalentes, ou seja, o tempo médio para as duas turmas são iguais.\n",
    "\n",
    "Precisamos verificar se existe diferença entre duas médias e, para isso, é necessário avaliar se estamos trabalhando com duas populações homocedásticas ou heterocedásticas. Dessa forma, primeiramente, executaremos o teste bilateral para duas variâncias:"
   ]
  },
  {
   "cell_type": "markdown",
   "id": "64bfba87",
   "metadata": {
    "ExecuteTime": {
     "end_time": "2022-07-03T23:07:02.838658Z",
     "start_time": "2022-07-03T23:07:02.789439Z"
    }
   },
   "source": [
    "Hipóteses estatísticas:<br>\n",
    "$H_0:\\sigma_J^2=\\sigma_A^2$<br>\n",
    "$H_A:\\sigma_J^2\\neq\\sigma_A^2$"
   ]
  },
  {
   "cell_type": "code",
   "execution_count": 250,
   "id": "4520d0ad",
   "metadata": {
    "ExecuteTime": {
     "end_time": "2022-07-06T02:07:58.220281Z",
     "start_time": "2022-07-06T02:07:58.216290Z"
    }
   },
   "outputs": [],
   "source": [
    "nj = 14\n",
    "na = 13\n",
    "xj = 11.57\n",
    "xa = 15.38\n",
    "sj = 4.1 ** 2\n",
    "sa = 4.3 ** 2\n",
    "a = 0.05"
   ]
  },
  {
   "cell_type": "code",
   "execution_count": 251,
   "id": "88d357dc",
   "metadata": {
    "ExecuteTime": {
     "end_time": "2022-07-06T02:07:58.502127Z",
     "start_time": "2022-07-06T02:07:58.484043Z"
    }
   },
   "outputs": [
    {
     "data": {
      "text/plain": [
       "0.9091400757166036"
      ]
     },
     "execution_count": 251,
     "metadata": {},
     "output_type": "execute_result"
    }
   ],
   "source": [
    "f = sj / sa\n",
    "f"
   ]
  },
  {
   "cell_type": "code",
   "execution_count": 252,
   "id": "0c17c2aa",
   "metadata": {
    "ExecuteTime": {
     "end_time": "2022-07-06T02:07:58.706108Z",
     "start_time": "2022-07-06T02:07:58.692041Z"
    }
   },
   "outputs": [
    {
     "data": {
      "text/plain": [
       "0.3171406419422584"
      ]
     },
     "execution_count": 252,
     "metadata": {},
     "output_type": "execute_result"
    }
   ],
   "source": [
    "fl = 1 / ff.interval(1 - a, na - 1, nj - 1)[1]\n",
    "fl"
   ]
  },
  {
   "cell_type": "code",
   "execution_count": 253,
   "id": "5b47ccc1",
   "metadata": {
    "ExecuteTime": {
     "end_time": "2022-07-06T02:07:58.923897Z",
     "start_time": "2022-07-06T02:07:58.906495Z"
    }
   },
   "outputs": [
    {
     "data": {
      "text/plain": [
       "3.2392633174271053"
      ]
     },
     "execution_count": 253,
     "metadata": {},
     "output_type": "execute_result"
    }
   ],
   "source": [
    "fr = ff.interval(1 - a, nj - 1, na - 1)[1]\n",
    "fr"
   ]
  },
  {
   "cell_type": "code",
   "execution_count": 254,
   "id": "c8788b89",
   "metadata": {
    "ExecuteTime": {
     "end_time": "2022-07-06T02:07:59.187071Z",
     "start_time": "2022-07-06T02:07:59.176526Z"
    }
   },
   "outputs": [
    {
     "name": "stdout",
     "output_type": "stream",
     "text": [
      "Aceita H0 -- homocedásticas\n"
     ]
    }
   ],
   "source": [
    "if f < float(fl) or f > float(fr):\n",
    "    print('Rejeita H0 -- heterocedásticas')\n",
    "else:\n",
    "    print('Aceita H0 -- homocedásticas')"
   ]
  },
  {
   "cell_type": "code",
   "execution_count": 255,
   "id": "7506d826",
   "metadata": {
    "ExecuteTime": {
     "end_time": "2022-07-06T02:07:59.535096Z",
     "start_time": "2022-07-06T02:07:59.519093Z"
    }
   },
   "outputs": [],
   "source": [
    "#Sc^2{comb}\n",
    "sc2 = ((nj - 1)*sj + (na - 1)*sa)/((nj-1) +(na - 1))"
   ]
  },
  {
   "cell_type": "code",
   "execution_count": 256,
   "id": "2d20b899",
   "metadata": {
    "ExecuteTime": {
     "end_time": "2022-07-06T02:08:00.142916Z",
     "start_time": "2022-07-06T02:08:00.127895Z"
    }
   },
   "outputs": [
    {
     "data": {
      "text/plain": [
       "-2.356786306494855"
      ]
     },
     "execution_count": 256,
     "metadata": {},
     "output_type": "execute_result"
    }
   ],
   "source": [
    "# Estatística de teste:\n",
    "t0 = (xj - xa)/np.sqrt((sc2/nj)+(sc2/na))\n",
    "t0"
   ]
  },
  {
   "cell_type": "code",
   "execution_count": 257,
   "id": "faa94dfc",
   "metadata": {
    "ExecuteTime": {
     "end_time": "2022-07-06T02:08:00.625081Z",
     "start_time": "2022-07-06T02:08:00.607001Z"
    }
   },
   "outputs": [
    {
     "data": {
      "text/plain": [
       "0.026574633017822705"
      ]
     },
     "execution_count": 257,
     "metadata": {},
     "output_type": "execute_result"
    }
   ],
   "source": [
    "#Pesquisar como encontrar o valor p\n",
    "p = t.sf(np.abs(t0), df = 25) * 2\n",
    "p"
   ]
  },
  {
   "cell_type": "code",
   "execution_count": 79,
   "id": "822b8aa6",
   "metadata": {
    "ExecuteTime": {
     "end_time": "2022-07-05T23:35:40.305706Z",
     "start_time": "2022-07-05T23:35:40.286612Z"
    }
   },
   "outputs": [
    {
     "data": {
      "text/plain": [
       "2.059538552753294"
      ]
     },
     "execution_count": 79,
     "metadata": {},
     "output_type": "execute_result"
    }
   ],
   "source": [
    "# valor t_alpha\n",
    "t_alpha = t.interval(0.95, 25)[1]\n",
    "t_alpha"
   ]
  },
  {
   "cell_type": "code",
   "execution_count": 81,
   "id": "4afd305e",
   "metadata": {
    "ExecuteTime": {
     "end_time": "2022-07-05T23:39:00.946708Z",
     "start_time": "2022-07-05T23:39:00.930698Z"
    }
   },
   "outputs": [
    {
     "data": {
      "text/plain": [
       "(-7.139466852537987, -0.4805331474620136)"
      ]
     },
     "execution_count": 81,
     "metadata": {},
     "output_type": "execute_result"
    }
   ],
   "source": [
    "# Calculando o intervalo de confiança\n",
    "int_conf = t.interval(1 - a, (nj + na) - 2, (xj - xa), np.sqrt((s2/nj)+(s2/13)))\n",
    "int_conf"
   ]
  },
  {
   "cell_type": "code",
   "execution_count": 89,
   "id": "f0a7fee8",
   "metadata": {
    "ExecuteTime": {
     "end_time": "2022-07-05T23:49:14.004113Z",
     "start_time": "2022-07-05T23:49:13.995017Z"
    }
   },
   "outputs": [
    {
     "name": "stdout",
     "output_type": "stream",
     "text": [
      "Rejeita H0\n"
     ]
    }
   ],
   "source": [
    "if p < a:\n",
    "    print(\"Rejeita H0\")\n",
    "else:\n",
    "    print(\"Aceita H0\")"
   ]
  },
  {
   "cell_type": "markdown",
   "id": "db9d2a90",
   "metadata": {
    "ExecuteTime": {
     "end_time": "2022-07-05T23:46:17.732353Z",
     "start_time": "2022-07-05T23:46:17.715128Z"
    }
   },
   "source": [
    "##### Exemplo\n",
    "Uma empresa avaliadora de imóveis está estudando as regiões central e oeste da cidade de São Paulo. O objetivo principal é verificar se o preço médio (em R\\$ 10.000,00), praticado para imóveis comerciais de um dado tamanho, é o mesmo nas duas áreas. Duas amostras aleatórias foram selecionadas de cada região. As medidas resumo para esse estudo encontram-se a seguir:\n"
   ]
  },
  {
   "cell_type": "markdown",
   "id": "8e156acb",
   "metadata": {
    "ExecuteTime": {
     "end_time": "2022-07-05T23:59:15.611270Z",
     "start_time": "2022-07-05T23:59:15.595918Z"
    }
   },
   "source": [
    "| Região      |n|Média|Desvio padrão|\n",
    "|:-----------:|----------- | ----------- |----------|\n",
    "|Central      |20|40,2|0,7|\n",
    "|Oeste        |15|36,7|1,9|"
   ]
  },
  {
   "cell_type": "markdown",
   "id": "927ab92c",
   "metadata": {},
   "source": [
    "Considerando-se um nível de 5% de significância, o que você pode concluir?\n",
    "\n",
    "Assim como no exemplo 1, estamos trabalhando com a comparação de duas médias em dois grupos distintos (região central e oeste). Para isso, é necessário avaliar se estamos trabalhando com duas populações homocedásticas ou heterocedásticas. Dessa forma, primeiramente, executaremos o teste bilateral para duas variâncias:"
   ]
  },
  {
   "cell_type": "code",
   "execution_count": 91,
   "id": "9b98cd30",
   "metadata": {
    "ExecuteTime": {
     "end_time": "2022-07-06T00:06:48.925691Z",
     "start_time": "2022-07-06T00:06:48.908683Z"
    }
   },
   "outputs": [],
   "source": [
    "n1 = 20\n",
    "n2 = 15\n",
    "x1 = 40.2\n",
    "x2 = 36.7\n",
    "s1 = 0.7 ** 2\n",
    "s2 = 1.9 ** 2\n",
    "a = 0.05"
   ]
  },
  {
   "cell_type": "code",
   "execution_count": 92,
   "id": "bbdc4e01",
   "metadata": {
    "ExecuteTime": {
     "end_time": "2022-07-06T00:07:02.891181Z",
     "start_time": "2022-07-06T00:07:02.882193Z"
    }
   },
   "outputs": [
    {
     "data": {
      "text/plain": [
       "0.13573407202216065"
      ]
     },
     "execution_count": 92,
     "metadata": {},
     "output_type": "execute_result"
    }
   ],
   "source": [
    "f = s1 / s2\n",
    "f"
   ]
  },
  {
   "cell_type": "code",
   "execution_count": 96,
   "id": "b0a0efb3",
   "metadata": {
    "ExecuteTime": {
     "end_time": "2022-07-06T00:08:57.194148Z",
     "start_time": "2022-07-06T00:08:57.188135Z"
    }
   },
   "outputs": [
    {
     "data": {
      "text/plain": [
       "0.37779645661935185"
      ]
     },
     "execution_count": 96,
     "metadata": {},
     "output_type": "execute_result"
    }
   ],
   "source": [
    "fl = 1 / ff.interval(1 - a, n2 - 1, n1 - 1)[1]\n",
    "fl"
   ]
  },
  {
   "cell_type": "code",
   "execution_count": 97,
   "id": "c2e59363",
   "metadata": {
    "ExecuteTime": {
     "end_time": "2022-07-06T00:08:57.660700Z",
     "start_time": "2022-07-06T00:08:57.651060Z"
    }
   },
   "outputs": [
    {
     "data": {
      "text/plain": [
       "2.8607215359970652"
      ]
     },
     "execution_count": 97,
     "metadata": {},
     "output_type": "execute_result"
    }
   ],
   "source": [
    "fr = ff.interval(1 - a, n1 - 1, n2 - 1)[1]\n",
    "fr"
   ]
  },
  {
   "cell_type": "code",
   "execution_count": 95,
   "id": "01c04922",
   "metadata": {
    "ExecuteTime": {
     "end_time": "2022-07-06T00:07:34.272273Z",
     "start_time": "2022-07-06T00:07:34.261275Z"
    }
   },
   "outputs": [
    {
     "name": "stdout",
     "output_type": "stream",
     "text": [
      "Rejeita H0 -- heterocedásticas\n"
     ]
    }
   ],
   "source": [
    "if f < float(fl) or f > float(fr):\n",
    "    print('Rejeita H0 -- heterocedásticas')\n",
    "else:\n",
    "    print('Aceita H0 -- homocedásticas')"
   ]
  },
  {
   "cell_type": "markdown",
   "id": "3bbfef57",
   "metadata": {},
   "source": [
    "Hipóteses estatísticas:<br>\n",
    "$H_0:\\mu_1=\\mu_2$<br>\n",
    "$H_A:\\mu_1\\neq\\mu_2$"
   ]
  },
  {
   "cell_type": "code",
   "execution_count": 100,
   "id": "afd0d7d1",
   "metadata": {
    "ExecuteTime": {
     "end_time": "2022-07-06T00:15:02.680183Z",
     "start_time": "2022-07-06T00:15:02.675243Z"
    }
   },
   "outputs": [
    {
     "data": {
      "text/plain": [
       "6.796863993846612"
      ]
     },
     "execution_count": 100,
     "metadata": {},
     "output_type": "execute_result"
    }
   ],
   "source": [
    "#Estatística de teste\n",
    "t0 = (x1 - x2)/np.sqrt((s1/n1)+(s2/n2))\n",
    "t0"
   ]
  },
  {
   "cell_type": "code",
   "execution_count": 107,
   "id": "635b8707",
   "metadata": {
    "ExecuteTime": {
     "end_time": "2022-07-06T00:20:22.219826Z",
     "start_time": "2022-07-06T00:20:22.204592Z"
    }
   },
   "outputs": [
    {
     "data": {
      "text/plain": [
       "2.1447866879169273"
      ]
     },
     "execution_count": 107,
     "metadata": {},
     "output_type": "execute_result"
    }
   ],
   "source": [
    "# populações heterocedásticas usará o menor valor como graus de liberdade\n",
    "t_alpha = t.interval(0.95, 14)[1]\n",
    "t_alpha"
   ]
  },
  {
   "cell_type": "code",
   "execution_count": 112,
   "id": "27c71ca7",
   "metadata": {
    "ExecuteTime": {
     "end_time": "2022-07-06T00:25:00.874948Z",
     "start_time": "2022-07-06T00:25:00.860843Z"
    }
   },
   "outputs": [
    {
     "data": {
      "text/plain": [
       "8.640740672982558e-06"
      ]
     },
     "execution_count": 112,
     "metadata": {},
     "output_type": "execute_result"
    }
   ],
   "source": [
    "# populações heterocedásticas usará o menor valor como graus de liberdade\n",
    "# Verificar o teste p que não está batendo\n",
    "p = t.sf(t0, 14) * 2\n",
    "p"
   ]
  },
  {
   "cell_type": "code",
   "execution_count": 113,
   "id": "c653b6d6",
   "metadata": {
    "ExecuteTime": {
     "end_time": "2022-07-06T00:28:20.515023Z",
     "start_time": "2022-07-06T00:28:20.501014Z"
    }
   },
   "outputs": [
    {
     "data": {
      "text/plain": [
       "(2.3955563309041765, 4.604443669095824)"
      ]
     },
     "execution_count": 113,
     "metadata": {},
     "output_type": "execute_result"
    }
   ],
   "source": [
    "# Intervalo de confiança (para hipóteses bilaterais):\n",
    "int_conf = t.interval(1 - a, 14, (x1 - x2), np.sqrt((s1/n1)+(s2/n2)))\n",
    "int_conf"
   ]
  },
  {
   "cell_type": "code",
   "execution_count": 114,
   "id": "7f872821",
   "metadata": {
    "ExecuteTime": {
     "end_time": "2022-07-06T00:29:23.320868Z",
     "start_time": "2022-07-06T00:29:23.316869Z"
    }
   },
   "outputs": [
    {
     "name": "stdout",
     "output_type": "stream",
     "text": [
      "Rejeita H0\n"
     ]
    }
   ],
   "source": [
    "if p < a:\n",
    "    print(\"Rejeita H0\")\n",
    "else:\n",
    "    print(\"Aceita H0\")"
   ]
  },
  {
   "cell_type": "markdown",
   "id": "b1cac17f",
   "metadata": {},
   "source": [
    "##### Exercício\n",
    " Uma nova técnica de impressão 3D foi desenvolvida. Para comparar a eficiência entre a técnica tradicional e a nova técnica foi feita uma análise do tempo de secagem (em minutos). Uma amostra de 14 cubos impressos pelo método tradicional (método 1) apontou uma média de 121 minutos e um desvio padrão de 16 minutos. 10 cubos impressos pelo novo método (método 2) indicaram uma média \n",
    "de 112 minutos e um desvio padrão de 15 minutos. Ao nível de significância de 5%, podemos afirmar que existe diferença nos tempos de secagem das duas técnicas? Assuma que os desvios padrões populacionais são iguais."
   ]
  },
  {
   "cell_type": "code",
   "execution_count": 178,
   "id": "5ac210e8",
   "metadata": {
    "ExecuteTime": {
     "end_time": "2022-07-06T01:25:28.866662Z",
     "start_time": "2022-07-06T01:25:28.861662Z"
    }
   },
   "outputs": [],
   "source": [
    "n1 = 14\n",
    "n2 = 10\n",
    "x1 = 121\n",
    "x2 = 112\n",
    "s1 = 16 ** 2\n",
    "s2 = 15 ** 2\n",
    "a = 0.05"
   ]
  },
  {
   "cell_type": "markdown",
   "id": "d70471f6",
   "metadata": {},
   "source": [
    "Hipóteses estatísticas:\n",
    "\n",
    "$H_0:\\sigma_1^2=\\sigma_2^2$<br>\n",
    "$H_1:\\sigma_1^2\\neq\\sigma_2^2$"
   ]
  },
  {
   "cell_type": "code",
   "execution_count": 179,
   "id": "faf70829",
   "metadata": {
    "ExecuteTime": {
     "end_time": "2022-07-06T01:25:29.471128Z",
     "start_time": "2022-07-06T01:25:29.462444Z"
    }
   },
   "outputs": [
    {
     "data": {
      "text/plain": [
       "1.1377777777777778"
      ]
     },
     "execution_count": 179,
     "metadata": {},
     "output_type": "execute_result"
    }
   ],
   "source": [
    "# Verificar se as populações são homocedásticas ou heterocidásticas\n",
    "f = s1/s2\n",
    "f"
   ]
  },
  {
   "cell_type": "code",
   "execution_count": 180,
   "id": "80ba14ec",
   "metadata": {
    "ExecuteTime": {
     "end_time": "2022-07-06T01:25:29.814580Z",
     "start_time": "2022-07-06T01:25:29.797419Z"
    }
   },
   "outputs": [
    {
     "data": {
      "text/plain": [
       "0.3019294125759975"
      ]
     },
     "execution_count": 180,
     "metadata": {},
     "output_type": "execute_result"
    }
   ],
   "source": [
    "fl = 1 / ff.interval(1 - a, n2 - 1, n1 - 1)[1]\n",
    "fl"
   ]
  },
  {
   "cell_type": "code",
   "execution_count": 181,
   "id": "528b98af",
   "metadata": {
    "ExecuteTime": {
     "end_time": "2022-07-06T01:25:30.347479Z",
     "start_time": "2022-07-06T01:25:30.333325Z"
    }
   },
   "outputs": [
    {
     "data": {
      "text/plain": [
       "3.8305955783109256"
      ]
     },
     "execution_count": 181,
     "metadata": {},
     "output_type": "execute_result"
    }
   ],
   "source": [
    "fr = ff.interval(1 - a, n1 - 1, n2 - 1)[1]\n",
    "fr"
   ]
  },
  {
   "cell_type": "code",
   "execution_count": 182,
   "id": "c3b02ccf",
   "metadata": {
    "ExecuteTime": {
     "end_time": "2022-07-06T01:25:30.689081Z",
     "start_time": "2022-07-06T01:25:30.672915Z"
    }
   },
   "outputs": [
    {
     "name": "stdout",
     "output_type": "stream",
     "text": [
      "Aceita H0 -- homocedásticas\n"
     ]
    }
   ],
   "source": [
    "if f < float(fl) or f > float(fr):\n",
    "    print('Rejeita H0 -- heterocedásticas')\n",
    "else:\n",
    "    print('Aceita H0 -- homocedásticas')"
   ]
  },
  {
   "cell_type": "code",
   "execution_count": 183,
   "id": "19013a58",
   "metadata": {
    "ExecuteTime": {
     "end_time": "2022-07-06T01:25:31.214411Z",
     "start_time": "2022-07-06T01:25:31.198119Z"
    }
   },
   "outputs": [
    {
     "data": {
      "text/plain": [
       "243.3181818181818"
      ]
     },
     "execution_count": 183,
     "metadata": {},
     "output_type": "execute_result"
    }
   ],
   "source": [
    "#Sc^2{comb}\n",
    "sc2 = ((n1 - 1)*s1 + (n2 - 1)*s2)/((n1-1) +(n2 - 1))\n",
    "sc2"
   ]
  },
  {
   "cell_type": "code",
   "execution_count": 185,
   "id": "004248ae",
   "metadata": {
    "ExecuteTime": {
     "end_time": "2022-07-06T01:25:43.920620Z",
     "start_time": "2022-07-06T01:25:43.903475Z"
    }
   },
   "outputs": [
    {
     "data": {
      "text/plain": [
       "1.3935213444162045"
      ]
     },
     "execution_count": 185,
     "metadata": {},
     "output_type": "execute_result"
    }
   ],
   "source": [
    "# Estatística de teste:\n",
    "t0 = (x1 - x2)/np.sqrt((sc2/n1)+(sc2/n2))\n",
    "t0"
   ]
  },
  {
   "cell_type": "code",
   "execution_count": 186,
   "id": "a8bcd5f5",
   "metadata": {
    "ExecuteTime": {
     "end_time": "2022-07-06T01:26:32.917074Z",
     "start_time": "2022-07-06T01:26:32.911066Z"
    }
   },
   "outputs": [
    {
     "data": {
      "text/plain": [
       "0.1773818427415405"
      ]
     },
     "execution_count": 186,
     "metadata": {},
     "output_type": "execute_result"
    }
   ],
   "source": [
    "# valor-p\n",
    "p = t.sf(t0, (n1 + n2) - 2) * 2\n",
    "p"
   ]
  },
  {
   "cell_type": "code",
   "execution_count": 187,
   "id": "a4b985ac",
   "metadata": {
    "ExecuteTime": {
     "end_time": "2022-07-06T01:26:34.347221Z",
     "start_time": "2022-07-06T01:26:34.335212Z"
    }
   },
   "outputs": [
    {
     "data": {
      "text/plain": [
       "(-4.394023482973994, 22.394023482973992)"
      ]
     },
     "execution_count": 187,
     "metadata": {},
     "output_type": "execute_result"
    }
   ],
   "source": [
    "# Intervalo de confiança\n",
    "int_conf = t.interval(1 - a, (n1 + n2) - 2, (x1 - x2), np.sqrt((sc2/n1)+(sc2/n2)))\n",
    "int_conf"
   ]
  },
  {
   "cell_type": "markdown",
   "id": "cdff1a79",
   "metadata": {},
   "source": [
    "##### Exercício\n",
    " Uma empresa realizou um estudo para avaliar o tempo médio de adaptação de funcionários recém formados e de funcionários que atuam no mercado há mais tempo. Foram selecionados aleatoriamente 26 recém formados, obtendo-se um tempo médio de adaptação de 2,8 anos e um desvio padrão de 0,6 anos.; 26 funcionários que atuam no mercado há mais tempo, obtendo-se um tempo médio de \n",
    "adaptação de 2,3 anos e um desvio padrão de 0,7 anos. Teste a hipótese de que existe diferença entre os tempos médios de adaptação, considerando um nível de 5% de significância. Assuma que os desvios padrões populacionais são iguais."
   ]
  },
  {
   "cell_type": "code",
   "execution_count": 188,
   "id": "e2c42000",
   "metadata": {
    "ExecuteTime": {
     "end_time": "2022-07-06T01:26:41.180994Z",
     "start_time": "2022-07-06T01:26:41.175999Z"
    }
   },
   "outputs": [],
   "source": [
    "n1 = 26\n",
    "n2 = 26\n",
    "x1 = 2.8\n",
    "x2 = 2.3\n",
    "s1 = 0.6 ** 2\n",
    "s2 = 0.7 ** 2\n",
    "a = 0.05"
   ]
  },
  {
   "cell_type": "code",
   "execution_count": 189,
   "id": "7205e273",
   "metadata": {
    "ExecuteTime": {
     "end_time": "2022-07-06T01:26:41.507983Z",
     "start_time": "2022-07-06T01:26:41.494983Z"
    }
   },
   "outputs": [
    {
     "data": {
      "text/plain": [
       "0.7346938775510204"
      ]
     },
     "execution_count": 189,
     "metadata": {},
     "output_type": "execute_result"
    }
   ],
   "source": [
    "f = s1/s2\n",
    "f"
   ]
  },
  {
   "cell_type": "code",
   "execution_count": 190,
   "id": "10e70bda",
   "metadata": {
    "ExecuteTime": {
     "end_time": "2022-07-06T01:26:41.789786Z",
     "start_time": "2022-07-06T01:26:41.773628Z"
    }
   },
   "outputs": [
    {
     "data": {
      "text/plain": [
       "0.4483697532971971"
      ]
     },
     "execution_count": 190,
     "metadata": {},
     "output_type": "execute_result"
    }
   ],
   "source": [
    "fl = 1 / ff.interval(1 - a, n2 - 1, n1 - 1)[1]\n",
    "fl"
   ]
  },
  {
   "cell_type": "code",
   "execution_count": 191,
   "id": "53c7f6b2",
   "metadata": {
    "ExecuteTime": {
     "end_time": "2022-07-06T01:26:42.179892Z",
     "start_time": "2022-07-06T01:26:42.174902Z"
    }
   },
   "outputs": [
    {
     "data": {
      "text/plain": [
       "2.2303020947471466"
      ]
     },
     "execution_count": 191,
     "metadata": {},
     "output_type": "execute_result"
    }
   ],
   "source": [
    "fr = ff.interval(1 - a, n1 -1, n2 - 1)[1]\n",
    "fr"
   ]
  },
  {
   "cell_type": "code",
   "execution_count": 192,
   "id": "ff81bce2",
   "metadata": {
    "ExecuteTime": {
     "end_time": "2022-07-06T01:26:42.599206Z",
     "start_time": "2022-07-06T01:26:42.591107Z"
    }
   },
   "outputs": [
    {
     "name": "stdout",
     "output_type": "stream",
     "text": [
      "Aceita H0 -- homocedásticas\n"
     ]
    }
   ],
   "source": [
    "if f < float(fl) or f > float(fr):\n",
    "    print('Rejeita H0 -- heterocedásticas')\n",
    "else:\n",
    "    print('Aceita H0 -- homocedásticas')"
   ]
  },
  {
   "cell_type": "code",
   "execution_count": 193,
   "id": "e63b3fd1",
   "metadata": {
    "ExecuteTime": {
     "end_time": "2022-07-06T01:26:45.014089Z",
     "start_time": "2022-07-06T01:26:44.998856Z"
    }
   },
   "outputs": [
    {
     "data": {
      "text/plain": [
       "0.425"
      ]
     },
     "execution_count": 193,
     "metadata": {},
     "output_type": "execute_result"
    }
   ],
   "source": [
    "#Sc^2{comb}\n",
    "sc2 = ((n1 - 1)*s1 + (n2 - 1)*s2)/((n1-1) +(n2 - 1))\n",
    "sc2"
   ]
  },
  {
   "cell_type": "code",
   "execution_count": 194,
   "id": "2e24aed6",
   "metadata": {
    "ExecuteTime": {
     "end_time": "2022-07-06T01:26:52.560590Z",
     "start_time": "2022-07-06T01:26:52.542418Z"
    }
   },
   "outputs": [
    {
     "data": {
      "text/plain": [
       "2.7653315937748606"
      ]
     },
     "execution_count": 194,
     "metadata": {},
     "output_type": "execute_result"
    }
   ],
   "source": [
    "# Estatística de teste:\n",
    "t0 = (x1 - x2)/np.sqrt((sc2/n1)+(sc2/n2))\n",
    "t0"
   ]
  },
  {
   "cell_type": "code",
   "execution_count": 195,
   "id": "ac6796b1",
   "metadata": {
    "ExecuteTime": {
     "end_time": "2022-07-06T01:26:59.832829Z",
     "start_time": "2022-07-06T01:26:59.814566Z"
    }
   },
   "outputs": [
    {
     "data": {
      "text/plain": [
       "0.007944885627311018"
      ]
     },
     "execution_count": 195,
     "metadata": {},
     "output_type": "execute_result"
    }
   ],
   "source": [
    "# Valor P\n",
    "p = t.sf(t0, (n1 + n2) - 2) * 2\n",
    "p"
   ]
  },
  {
   "cell_type": "code",
   "execution_count": 196,
   "id": "ea1dd348",
   "metadata": {
    "ExecuteTime": {
     "end_time": "2022-07-06T01:27:27.874071Z",
     "start_time": "2022-07-06T01:27:27.863866Z"
    }
   },
   "outputs": [
    {
     "data": {
      "text/plain": [
       "(0.13683214081147682, 0.8631678591885232)"
      ]
     },
     "execution_count": 196,
     "metadata": {},
     "output_type": "execute_result"
    }
   ],
   "source": [
    "# Intervalo de confiança = \n",
    "int_conf = t.interval(1- a, (n1 + n2) - 2, (x1 - x2), np.sqrt((sc2/n1)+(sc2/n2)))\n",
    "int_conf"
   ]
  },
  {
   "cell_type": "markdown",
   "id": "5a5b243a",
   "metadata": {},
   "source": [
    "##### Exercício\n",
    "Deseja-se saber se 2 máquinas de empacotar café estão fornecendo o mesmo peso médio em kg. Extraem-se duas amostras, uma de cada máquina (supondo que os pesos das amostras sigam uma distribuição normal):\n",
    "\n",
    "- Máquina Nova: 36 amostras, média = 0,81 kg, variância = 0,00020 kg2.\n",
    "- Máquina Velha: 39 amostras, média = 0,78 kg, variância = 0,00135 kg2.\n",
    "\n",
    "Qual é a sua conclusão a 5% de significância? Assuma que os desvios padrões populacionais são diferentes."
   ]
  },
  {
   "cell_type": "code",
   "execution_count": 197,
   "id": "3386d7da",
   "metadata": {
    "ExecuteTime": {
     "end_time": "2022-07-06T01:27:40.511274Z",
     "start_time": "2022-07-06T01:27:40.502274Z"
    }
   },
   "outputs": [],
   "source": [
    "n1 = 36\n",
    "n2 = 39\n",
    "x1 = 0.81\n",
    "x2 = 0.78\n",
    "s1 = 0.00020\n",
    "s2 = 0.00135\n",
    "a = 0.05"
   ]
  },
  {
   "cell_type": "code",
   "execution_count": 198,
   "id": "e7f533a4",
   "metadata": {
    "ExecuteTime": {
     "end_time": "2022-07-06T01:27:40.807900Z",
     "start_time": "2022-07-06T01:27:40.789904Z"
    }
   },
   "outputs": [
    {
     "data": {
      "text/plain": [
       "0.14814814814814814"
      ]
     },
     "execution_count": 198,
     "metadata": {},
     "output_type": "execute_result"
    }
   ],
   "source": [
    "f= s1/s2\n",
    "f"
   ]
  },
  {
   "cell_type": "code",
   "execution_count": 199,
   "id": "d4811e6e",
   "metadata": {
    "ExecuteTime": {
     "end_time": "2022-07-06T01:27:41.119903Z",
     "start_time": "2022-07-06T01:27:41.114886Z"
    }
   },
   "outputs": [
    {
     "data": {
      "text/plain": [
       "0.514700235866965"
      ]
     },
     "execution_count": 199,
     "metadata": {},
     "output_type": "execute_result"
    }
   ],
   "source": [
    "fl = 1 / ff.interval(1 - a, n2 - 1, n1 - 1)[1]\n",
    "fl"
   ]
  },
  {
   "cell_type": "code",
   "execution_count": 200,
   "id": "963c1e75",
   "metadata": {
    "ExecuteTime": {
     "end_time": "2022-07-06T01:27:41.493050Z",
     "start_time": "2022-07-06T01:27:41.483049Z"
    }
   },
   "outputs": [
    {
     "data": {
      "text/plain": [
       "1.925429759503854"
      ]
     },
     "execution_count": 200,
     "metadata": {},
     "output_type": "execute_result"
    }
   ],
   "source": [
    "fr = ff.interval(1 - a, n1 - 1, n2 - 1)[1]\n",
    "fr"
   ]
  },
  {
   "cell_type": "code",
   "execution_count": 201,
   "id": "08a8ac51",
   "metadata": {
    "ExecuteTime": {
     "end_time": "2022-07-06T01:27:42.048899Z",
     "start_time": "2022-07-06T01:27:42.030893Z"
    }
   },
   "outputs": [
    {
     "name": "stdout",
     "output_type": "stream",
     "text": [
      "Rejeita H0 -- heterocedásticas\n"
     ]
    }
   ],
   "source": [
    "if f < float(fl) or f > float(fr):\n",
    "    print('Rejeita H0 -- heterocedásticas')\n",
    "else:\n",
    "    print('Aceita H0 -- homocedásticas')"
   ]
  },
  {
   "cell_type": "code",
   "execution_count": 202,
   "id": "ea21713c",
   "metadata": {
    "ExecuteTime": {
     "end_time": "2022-07-06T01:28:07.828801Z",
     "start_time": "2022-07-06T01:28:07.815634Z"
    }
   },
   "outputs": [
    {
     "data": {
      "text/plain": [
       "4.733313355267003"
      ]
     },
     "execution_count": 202,
     "metadata": {},
     "output_type": "execute_result"
    }
   ],
   "source": [
    "#Estatística de teste\n",
    "t0 = (x1 - x2)/np.sqrt((s1/n1)+(s2/n2))\n",
    "t0"
   ]
  },
  {
   "cell_type": "code",
   "execution_count": 203,
   "id": "cb4d823c",
   "metadata": {
    "ExecuteTime": {
     "end_time": "2022-07-06T01:29:16.748334Z",
     "start_time": "2022-07-06T01:29:16.735337Z"
    }
   },
   "outputs": [
    {
     "data": {
      "text/plain": [
       "3.5808744161889e-05"
      ]
     },
     "execution_count": 203,
     "metadata": {},
     "output_type": "execute_result"
    }
   ],
   "source": [
    "# Valor p\n",
    "p = t.sf(t0, n1 -1) * 2\n",
    "p"
   ]
  },
  {
   "cell_type": "code",
   "execution_count": 208,
   "id": "0f41f5d1",
   "metadata": {
    "ExecuteTime": {
     "end_time": "2022-07-06T01:33:29.020014Z",
     "start_time": "2022-07-06T01:33:29.002014Z"
    }
   },
   "outputs": [
    {
     "data": {
      "text/plain": [
       "(0.017133064456900996, 0.04286693554309906)"
      ]
     },
     "execution_count": 208,
     "metadata": {},
     "output_type": "execute_result"
    }
   ],
   "source": [
    "# Intervalo de Confiança:\n",
    "int_conf = t.interval(1 -a, n1 - 1, (x1 - x2), np.sqrt((s1/n1)+(s2/n2)))\n",
    "int_conf"
   ]
  },
  {
   "cell_type": "code",
   "execution_count": 209,
   "id": "69815389",
   "metadata": {
    "ExecuteTime": {
     "end_time": "2022-07-06T01:34:03.359992Z",
     "start_time": "2022-07-06T01:34:03.349993Z"
    }
   },
   "outputs": [
    {
     "name": "stdout",
     "output_type": "stream",
     "text": [
      "Rejeita H0\n"
     ]
    }
   ],
   "source": [
    "if p < a :\n",
    "    print(\"Rejeita H0\")\n",
    "else:\n",
    "    print('Aceita H0')"
   ]
  },
  {
   "cell_type": "markdown",
   "id": "46f05d5e",
   "metadata": {},
   "source": [
    "##### Exercício\n",
    " Os dados a seguir referem-se ao conteúdo médio de material sólido em suspensão (mg $L^{-1}$) nas águas dos rios Verde e Crespo. O material sólido em suspensão difere nos dois rios? Utilize um nível de 5% de significância e assuma que os desvios padrões populacionais são diferentes. Comente o resultado."
   ]
  },
  {
   "cell_type": "code",
   "execution_count": 135,
   "id": "ac683e70",
   "metadata": {
    "ExecuteTime": {
     "end_time": "2022-07-06T00:56:31.794357Z",
     "start_time": "2022-07-06T00:56:31.776356Z"
    }
   },
   "outputs": [
    {
     "data": {
      "text/html": [
       "<div>\n",
       "<style scoped>\n",
       "    .dataframe tbody tr th:only-of-type {\n",
       "        vertical-align: middle;\n",
       "    }\n",
       "\n",
       "    .dataframe tbody tr th {\n",
       "        vertical-align: top;\n",
       "    }\n",
       "\n",
       "    .dataframe thead th {\n",
       "        text-align: right;\n",
       "    }\n",
       "</style>\n",
       "<table border=\"1\" class=\"dataframe\">\n",
       "  <thead>\n",
       "    <tr style=\"text-align: right;\">\n",
       "      <th></th>\n",
       "      <th>Rio Verde</th>\n",
       "      <th>Rio Crespo</th>\n",
       "    </tr>\n",
       "  </thead>\n",
       "  <tbody>\n",
       "    <tr>\n",
       "      <th>0</th>\n",
       "      <td>210</td>\n",
       "      <td>410</td>\n",
       "    </tr>\n",
       "    <tr>\n",
       "      <th>1</th>\n",
       "      <td>242</td>\n",
       "      <td>390</td>\n",
       "    </tr>\n",
       "    <tr>\n",
       "      <th>2</th>\n",
       "      <td>226</td>\n",
       "      <td>501</td>\n",
       "    </tr>\n",
       "    <tr>\n",
       "      <th>3</th>\n",
       "      <td>268</td>\n",
       "      <td>420</td>\n",
       "    </tr>\n",
       "    <tr>\n",
       "      <th>4</th>\n",
       "      <td>251</td>\n",
       "      <td>480</td>\n",
       "    </tr>\n",
       "    <tr>\n",
       "      <th>5</th>\n",
       "      <td>206</td>\n",
       "      <td>456</td>\n",
       "    </tr>\n",
       "    <tr>\n",
       "      <th>6</th>\n",
       "      <td>218</td>\n",
       "      <td>495</td>\n",
       "    </tr>\n",
       "    <tr>\n",
       "      <th>7</th>\n",
       "      <td>215</td>\n",
       "      <td>507</td>\n",
       "    </tr>\n",
       "    <tr>\n",
       "      <th>8</th>\n",
       "      <td>207</td>\n",
       "      <td>385</td>\n",
       "    </tr>\n",
       "  </tbody>\n",
       "</table>\n",
       "</div>"
      ],
      "text/plain": [
       "   Rio Verde  Rio Crespo\n",
       "0        210         410\n",
       "1        242         390\n",
       "2        226         501\n",
       "3        268         420\n",
       "4        251         480\n",
       "5        206         456\n",
       "6        218         495\n",
       "7        215         507\n",
       "8        207         385"
      ]
     },
     "execution_count": 135,
     "metadata": {},
     "output_type": "execute_result"
    }
   ],
   "source": [
    "dados = {\n",
    "        \"Rio Verde\": [210, 242, 226, 268, 251, 206, 218, 215, 207],\n",
    "        \"Rio Crespo\": [410, 390, 501, 420, 480, 456, 495, 507, 385]\n",
    "    }\n",
    "\n",
    "df = pd.DataFrame(dados)\n",
    "df"
   ]
  },
  {
   "cell_type": "code",
   "execution_count": 244,
   "id": "073cfb46",
   "metadata": {
    "ExecuteTime": {
     "end_time": "2022-07-06T01:56:33.483239Z",
     "start_time": "2022-07-06T01:56:33.478701Z"
    }
   },
   "outputs": [],
   "source": [
    "n1 = len(df['Rio Verde'])\n",
    "n2 = len(df['Rio Crespo'])\n",
    "x1 = df['Rio Verde'].mean()\n",
    "x2 = df['Rio Crespo'].mean()\n",
    "s1 = df['Rio Verde'].var()\n",
    "s2 = df['Rio Crespo'].var()"
   ]
  },
  {
   "cell_type": "code",
   "execution_count": 219,
   "id": "3448c864",
   "metadata": {
    "ExecuteTime": {
     "end_time": "2022-07-06T01:42:10.192296Z",
     "start_time": "2022-07-06T01:42:10.183289Z"
    }
   },
   "outputs": [
    {
     "data": {
      "text/plain": [
       "0.20060631402885218"
      ]
     },
     "execution_count": 219,
     "metadata": {},
     "output_type": "execute_result"
    }
   ],
   "source": [
    "f = s1 / s2\n",
    "f"
   ]
  },
  {
   "cell_type": "code",
   "execution_count": 220,
   "id": "ebf5dc6e",
   "metadata": {
    "ExecuteTime": {
     "end_time": "2022-07-06T01:43:02.804066Z",
     "start_time": "2022-07-06T01:43:02.792068Z"
    }
   },
   "outputs": [
    {
     "data": {
      "text/plain": [
       "0.2255676466069824"
      ]
     },
     "execution_count": 220,
     "metadata": {},
     "output_type": "execute_result"
    }
   ],
   "source": [
    "fl = 1 / ff.interval(1 - a, n2 - 1, n1 - 1)[1]\n",
    "fl"
   ]
  },
  {
   "cell_type": "code",
   "execution_count": 221,
   "id": "aff871b6",
   "metadata": {
    "ExecuteTime": {
     "end_time": "2022-07-06T01:43:34.871589Z",
     "start_time": "2022-07-06T01:43:34.864604Z"
    }
   },
   "outputs": [
    {
     "data": {
      "text/plain": [
       "4.433259889182375"
      ]
     },
     "execution_count": 221,
     "metadata": {},
     "output_type": "execute_result"
    }
   ],
   "source": [
    "fr = ff.interval(1 - a, n1 - 1, n2 - 1)[1]\n",
    "fr"
   ]
  },
  {
   "cell_type": "code",
   "execution_count": 222,
   "id": "a3ad07a5",
   "metadata": {
    "ExecuteTime": {
     "end_time": "2022-07-06T01:43:57.862300Z",
     "start_time": "2022-07-06T01:43:57.855293Z"
    }
   },
   "outputs": [
    {
     "name": "stdout",
     "output_type": "stream",
     "text": [
      "Rejeita H0 -- heterocedásticas\n"
     ]
    }
   ],
   "source": [
    "if f < float(fl) or f > float(fr):\n",
    "    print('Rejeita H0 -- heterocedásticas')\n",
    "else:\n",
    "    print('Aceita H0 -- homocedásticas')"
   ]
  },
  {
   "cell_type": "code",
   "execution_count": 268,
   "id": "f445b02a",
   "metadata": {
    "ExecuteTime": {
     "end_time": "2022-07-06T02:36:22.050766Z",
     "start_time": "2022-07-06T02:36:22.042758Z"
    }
   },
   "outputs": [
    {
     "data": {
      "text/plain": [
       "WilcoxonResult(statistic=0.0, pvalue=0.00390625)"
      ]
     },
     "execution_count": 268,
     "metadata": {},
     "output_type": "execute_result"
    }
   ],
   "source": [
    "# não funcionou, verificar\n",
    "from scipy.stats import wilcoxon\n",
    "wilcoxon(df['Rio Verde'], df['Rio Crespo'])"
   ]
  },
  {
   "cell_type": "code",
   "execution_count": 227,
   "id": "2f86d920",
   "metadata": {
    "ExecuteTime": {
     "end_time": "2022-07-06T01:49:45.157799Z",
     "start_time": "2022-07-06T01:49:45.151803Z"
    }
   },
   "outputs": [
    {
     "data": {
      "text/plain": [
       "-12.447734878820677"
      ]
     },
     "execution_count": 227,
     "metadata": {},
     "output_type": "execute_result"
    }
   ],
   "source": [
    "#Estatística de teste\n",
    "t0 = (x1 - x2)/np.sqrt((s1/n1)+(s2/n2))\n",
    "t0"
   ]
  },
  {
   "cell_type": "code",
   "execution_count": 248,
   "id": "134b18a8",
   "metadata": {
    "ExecuteTime": {
     "end_time": "2022-07-06T02:06:14.456218Z",
     "start_time": "2022-07-06T02:06:14.440214Z"
    }
   },
   "outputs": [
    {
     "data": {
      "text/plain": [
       "1.620892535131476e-06"
      ]
     },
     "execution_count": 248,
     "metadata": {},
     "output_type": "execute_result"
    }
   ],
   "source": [
    "# Valor p -- não esquecer em transformar em valor absoluto\n",
    "p = t.sf(np.abs(t0), n1 - 1) * 2\n",
    "p"
   ]
  },
  {
   "cell_type": "code",
   "execution_count": 229,
   "id": "22c52aa7",
   "metadata": {
    "ExecuteTime": {
     "end_time": "2022-07-06T01:50:35.816802Z",
     "start_time": "2022-07-06T01:50:35.808694Z"
    }
   },
   "outputs": [
    {
     "data": {
      "text/plain": [
       "(-263.5216773182908, -181.14498934837582)"
      ]
     },
     "execution_count": 229,
     "metadata": {},
     "output_type": "execute_result"
    }
   ],
   "source": [
    "# Intervalo de Confiança:\n",
    "int_conf = t.interval(1 -a, n1 - 1, (x1 - x2), np.sqrt((s1/n1)+(s2/n2)))\n",
    "int_conf"
   ]
  },
  {
   "cell_type": "code",
   "execution_count": 249,
   "id": "1c10d9e6",
   "metadata": {
    "ExecuteTime": {
     "end_time": "2022-07-06T02:06:34.534191Z",
     "start_time": "2022-07-06T02:06:34.521191Z"
    }
   },
   "outputs": [
    {
     "name": "stdout",
     "output_type": "stream",
     "text": [
      "Rejeita H0\n"
     ]
    }
   ],
   "source": [
    "if p < a :\n",
    "    print(\"Rejeita H0\")\n",
    "else:\n",
    "    print('Aceita H0')"
   ]
  },
  {
   "cell_type": "code",
   "execution_count": 261,
   "id": "acda651a",
   "metadata": {
    "ExecuteTime": {
     "end_time": "2022-07-06T02:11:34.172478Z",
     "start_time": "2022-07-06T02:11:34.169483Z"
    }
   },
   "outputs": [],
   "source": [
    "from scipy.stats import ttest_ind\n"
   ]
  },
  {
   "cell_type": "code",
   "execution_count": 263,
   "id": "3b320475",
   "metadata": {
    "ExecuteTime": {
     "end_time": "2022-07-06T02:18:10.242001Z",
     "start_time": "2022-07-06T02:18:10.225011Z"
    }
   },
   "outputs": [
    {
     "data": {
      "text/plain": [
       "Ttest_indResult(statistic=-12.447734878820677, pvalue=7.366844454621054e-08)"
      ]
     },
     "execution_count": 263,
     "metadata": {},
     "output_type": "execute_result"
    }
   ],
   "source": [
    "ttest_ind(df['Rio Verde'], df['Rio Crespo'], equal_var = False)"
   ]
  },
  {
   "cell_type": "code",
   "execution_count": null,
   "id": "e87a3453",
   "metadata": {
    "ExecuteTime": {
     "end_time": "2022-07-06T02:11:00.310542Z",
     "start_time": "2022-07-06T02:11:00.304529Z"
    }
   },
   "outputs": [],
   "source": []
  },
  {
   "cell_type": "code",
   "execution_count": null,
   "id": "a35b2e4f",
   "metadata": {},
   "outputs": [],
   "source": []
  }
 ],
 "metadata": {
  "kernelspec": {
   "display_name": "Python 3 (ipykernel)",
   "language": "python",
   "name": "python3"
  },
  "language_info": {
   "codemirror_mode": {
    "name": "ipython",
    "version": 3
   },
   "file_extension": ".py",
   "mimetype": "text/x-python",
   "name": "python",
   "nbconvert_exporter": "python",
   "pygments_lexer": "ipython3",
   "version": "3.9.12"
  },
  "latex_envs": {
   "LaTeX_envs_menu_present": true,
   "autoclose": false,
   "autocomplete": true,
   "bibliofile": "biblio.bib",
   "cite_by": "apalike",
   "current_citInitial": 1,
   "eqLabelWithNumbers": true,
   "eqNumInitial": 1,
   "hotkeys": {
    "equation": "Ctrl-E",
    "itemize": "Ctrl-I"
   },
   "labels_anchors": false,
   "latex_user_defs": false,
   "report_style_numbering": false,
   "user_envs_cfg": false
  },
  "toc": {
   "base_numbering": 1,
   "nav_menu": {},
   "number_sections": true,
   "sideBar": true,
   "skip_h1_title": false,
   "title_cell": "Table of Contents",
   "title_sidebar": "Contents",
   "toc_cell": false,
   "toc_position": {
    "height": "calc(100% - 180px)",
    "left": "10px",
    "top": "150px",
    "width": "478.306px"
   },
   "toc_section_display": true,
   "toc_window_display": true
  },
  "varInspector": {
   "cols": {
    "lenName": 16,
    "lenType": 16,
    "lenVar": 40
   },
   "kernels_config": {
    "python": {
     "delete_cmd_postfix": "",
     "delete_cmd_prefix": "del ",
     "library": "var_list.py",
     "varRefreshCmd": "print(var_dic_list())"
    },
    "r": {
     "delete_cmd_postfix": ") ",
     "delete_cmd_prefix": "rm(",
     "library": "var_list.r",
     "varRefreshCmd": "cat(var_dic_list()) "
    }
   },
   "types_to_exclude": [
    "module",
    "function",
    "builtin_function_or_method",
    "instance",
    "_Feature"
   ],
   "window_display": false
  }
 },
 "nbformat": 4,
 "nbformat_minor": 5
}
